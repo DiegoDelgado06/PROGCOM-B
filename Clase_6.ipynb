{
  "nbformat": 4,
  "nbformat_minor": 0,
  "metadata": {
    "colab": {
      "provenance": [],
      "include_colab_link": true
    },
    "kernelspec": {
      "name": "python3",
      "display_name": "Python 3"
    },
    "language_info": {
      "name": "python"
    }
  },
  "cells": [
    {
      "cell_type": "markdown",
      "metadata": {
        "id": "view-in-github",
        "colab_type": "text"
      },
      "source": [
        "<a href=\"https://colab.research.google.com/github/DiegoDelgado06/PROGCOM-B/blob/main/Clase_6.ipynb\" target=\"_parent\"><img src=\"https://colab.research.google.com/assets/colab-badge.svg\" alt=\"Open In Colab\"/></a>"
      ]
    },
    {
      "cell_type": "markdown",
      "source": [
        "###**SOLUCION PRUEBA DIGANOSTICA PARTE 3, PUNTOS DESDE EL 10 HASTA EL 20, UTILIZANDO DICCIONARIOS Y LISTAS POR COMPRENSION**"
      ],
      "metadata": {
        "id": "T4WRxn_I61EK"
      }
    },
    {
      "cell_type": "markdown",
      "source": [
        "##Ejercicio numero 10"
      ],
      "metadata": {
        "id": "0tw3ZzeK6C8S"
      }
    },
    {
      "cell_type": "code",
      "source": [
        "def contar_nombres_con_vocal(nombres):\n",
        "    vocales = 'aeiouAEIOU'\n",
        "    resultado = {}\n",
        "    for nombre in nombres:\n",
        "        if nombre[0] in vocales:\n",
        "            resultado[nombre] = True\n",
        "    return len(resultado)\n",
        "nombres = [\"Andrea\", \"Alejandro\", \"Julian\"] #Los tres mosqueteros jaja\n",
        "print(contar_nombres_con_vocal(nombres))"
      ],
      "metadata": {
        "colab": {
          "base_uri": "https://localhost:8080/"
        },
        "id": "nWaZhI5g6LiC",
        "outputId": "d2ac6d18-c6a4-4565-abeb-ab221d2894c5"
      },
      "execution_count": null,
      "outputs": [
        {
          "output_type": "stream",
          "name": "stdout",
          "text": [
            "2\n"
          ]
        }
      ]
    },
    {
      "cell_type": "markdown",
      "source": [
        "##Ejercicio numero 11"
      ],
      "metadata": {
        "id": "Qn4Z49pr67WC"
      }
    },
    {
      "cell_type": "code",
      "source": [
        "def eliminar_repetidos(lista):\n",
        "    resultado = {}\n",
        "    for elemento in lista:\n",
        "        resultado[elemento] = True\n",
        "    return list(resultado.keys())\n",
        "numeros = [1, 1, 1, 2, 2, 3, 4, 4, 4, 4, 5] # Si queres pone mas numeros y vera que es igual\n",
        "print(eliminar_repetidos(numeros))"
      ],
      "metadata": {
        "colab": {
          "base_uri": "https://localhost:8080/"
        },
        "id": "uIrHQUoM8Nvp",
        "outputId": "95d48b74-6f2e-4557-9651-71202e700385"
      },
      "execution_count": null,
      "outputs": [
        {
          "output_type": "stream",
          "name": "stdout",
          "text": [
            "[1, 2, 3, 4, 5]\n"
          ]
        }
      ]
    },
    {
      "cell_type": "markdown",
      "source": [
        "##Ejercicio numero 12"
      ],
      "metadata": {
        "id": "i7Qu9UQ68nF4"
      }
    },
    {
      "cell_type": "code",
      "source": [
        "def es_primo(num):\n",
        "    if num < 2:\n",
        "        return False\n",
        "    for i in range(2, num):\n",
        "        if num % i == 0:\n",
        "            return False\n",
        "    return True\n",
        "def filtrar_primos(lista):\n",
        "    primos = {}\n",
        "    for num in lista:\n",
        "        if es_primo(num):\n",
        "            primos[num] = True\n",
        "    return list(primos.keys())\n",
        "numeros = [1, 2, 3, 4, 5, 6, 7, 8, 9, 10, 11, 12, 13, 14, 15, 16, 17, 18, 19, 20, 21, 22] #Ya me canse de escribir sorry\n",
        "print(filtrar_primos(numeros))"
      ],
      "metadata": {
        "colab": {
          "base_uri": "https://localhost:8080/"
        },
        "id": "_R7reT9t8syo",
        "outputId": "46b2d034-c075-48cd-bc02-e0bfc4b79d4a"
      },
      "execution_count": null,
      "outputs": [
        {
          "output_type": "stream",
          "name": "stdout",
          "text": [
            "[2, 3, 5, 7, 11, 13, 17, 19]\n"
          ]
        }
      ]
    },
    {
      "cell_type": "code",
      "source": [
        "def es_primo(num):\n",
        "    if num < 2:\n",
        "        return False\n",
        "    for i in range(2, num):\n",
        "        if num % i == 0:\n",
        "            return False\n",
        "    return True\n",
        "def filtrar_primos(lista):\n",
        "    return [num for num in lista if es_primo(num)]\n",
        "numeros = [1, 2, 3, 4, 5, 6, 7, 8, 9, 10, 11, 12, 13, 14, 15, 16, 17, 18, 19, 20, 21, 22]\n",
        "print(filtrar_primos(numeros))"
      ],
      "metadata": {
        "colab": {
          "base_uri": "https://localhost:8080/"
        },
        "id": "mCYlOXv383H7",
        "outputId": "feaeb42b-aa64-4297-8aa0-f65e3e696baf"
      },
      "execution_count": null,
      "outputs": [
        {
          "output_type": "stream",
          "name": "stdout",
          "text": [
            "[2, 3, 5, 7, 11, 13, 17, 19]\n"
          ]
        }
      ]
    },
    {
      "cell_type": "markdown",
      "source": [
        "13. Crea una función que reciba un diccionario con claves 'nombre' y 'edad' y retorne un mensaje con esos datos"
      ],
      "metadata": {
        "id": "Wp75F5OO6s_O"
      }
    },
    {
      "cell_type": "code",
      "source": [
        "def mensaje_persona(datos):\n",
        "  nombre = datos.get('nombre', 'Desconocido')\n",
        "  edad = datos.get('edad', 'Desconocida')\n",
        "  return f\"El nombre es {nombre} y la edad es {edad} años\""
      ],
      "metadata": {
        "id": "uxDMMwPV6EKL"
      },
      "execution_count": null,
      "outputs": []
    },
    {
      "cell_type": "code",
      "source": [
        "  persona = {'nombre': 'Ana', 'edad':30}\n",
        "  print(mensaje_persona(persona))"
      ],
      "metadata": {
        "colab": {
          "base_uri": "https://localhost:8080/"
        },
        "id": "Zw-10HJT-2tX",
        "outputId": "2c3f7fdd-7533-4429-d88b-7540e6ed7056"
      },
      "execution_count": null,
      "outputs": [
        {
          "output_type": "stream",
          "name": "stdout",
          "text": [
            "El nombre es Ana y la edad es 30 años\n"
          ]
        }
      ]
    },
    {
      "cell_type": "markdown",
      "source": [
        "14. Crea una función que reciba un diccionario de productos (clave: nombre, valor: precio) y retome el total."
      ],
      "metadata": {
        "id": "MkezCUMG-9W_"
      }
    },
    {
      "cell_type": "code",
      "source": [
        "def calcular_total(productos):\n",
        "  total = 0\n",
        "  for precio in productos.values():\n",
        "    total += precio\n",
        "  return total\n"
      ],
      "metadata": {
        "id": "2V1N2kg-Ajdf"
      },
      "execution_count": null,
      "outputs": []
    },
    {
      "cell_type": "code",
      "source": [
        "productos = {\"manzana\": 1.5, \"pan\": 2.0, \"leche\": 1.2}\n",
        "print(calcular_total(productos))"
      ],
      "metadata": {
        "colab": {
          "base_uri": "https://localhost:8080/"
        },
        "id": "Hzv7-k-kCYfh",
        "outputId": "2a431921-831a-4d43-c569-ebaae6c33688"
      },
      "execution_count": null,
      "outputs": [
        {
          "output_type": "stream",
          "name": "stdout",
          "text": [
            "4.7\n"
          ]
        }
      ]
    },
    {
      "cell_type": "markdown",
      "source": [
        "15. Crear una función que reciba un diccionario de estudiantes (clave: nombre, valor: nota) y retorne el promedio."
      ],
      "metadata": {
        "id": "DlgQ4uwYFsJf"
      }
    },
    {
      "cell_type": "code",
      "source": [
        "def promedio_estudiantes(estudiantes: dict) -> float:\n",
        "    return sum([nota for nota in estudiantes.values()]) / len(estudiantes)\n",
        "\n",
        "estudiantes = {\"Ana\": 4.5, \"Luis\": 3.8, \"María\": 5.0, \"Carlos\": 4.0}\n",
        "\n",
        "print(promedio_estudiantes(estudiantes))"
      ],
      "metadata": {
        "colab": {
          "base_uri": "https://localhost:8080/"
        },
        "id": "6IbUuTYWGkiy",
        "outputId": "1fbf3539-ea78-44c9-a8b9-a59e9b3a50f1"
      },
      "execution_count": null,
      "outputs": [
        {
          "output_type": "stream",
          "name": "stdout",
          "text": [
            "4.325\n"
          ]
        }
      ]
    },
    {
      "cell_type": "code",
      "source": [
        "def promedio_estudiantes(estudiantes: dict) -> float:\n",
        "    return sum([nota for nota in estudiantes.values()]) / len(estudiantes)\n",
        "\n",
        "estudiantes = {\"Ana\": 4.5, \"Luis\": 3.8, \"María\": 5.0, \"Carlos\": 4.0}\n",
        "\n",
        "print(promedio_estudiantes(estudiantes))"
      ],
      "metadata": {
        "colab": {
          "base_uri": "https://localhost:8080/"
        },
        "id": "0VZbuTP3HItX",
        "outputId": "b34f8900-fd44-44a9-95ec-3f2acb8acde6"
      },
      "execution_count": null,
      "outputs": [
        {
          "output_type": "stream",
          "name": "stdout",
          "text": [
            "4.325\n"
          ]
        }
      ]
    },
    {
      "cell_type": "markdown",
      "source": [
        "## Ejercicio 17\n",
        "Version de Diccionarios:"
      ],
      "metadata": {
        "id": "xSbyD2kJ7vTe"
      }
    },
    {
      "cell_type": "code",
      "execution_count": null,
      "metadata": {
        "colab": {
          "base_uri": "https://localhost:8080/"
        },
        "id": "P3c-qNhk4rUr",
        "outputId": "47dbc08d-982d-4451-bf8f-2f46b69553d9"
      },
      "outputs": [
        {
          "output_type": "stream",
          "name": "stdout",
          "text": [
            "Nota de Diego: 4\n",
            "Nota de Andrea: 1\n",
            "Nota de Julián: 1\n",
            "la nota mayor es: 4\n"
          ]
        }
      ],
      "source": [
        "import random\n",
        "a = random.randint(0,5)\n",
        "print(f\"Nota de Diego: {a}\")\n",
        "b = random.randint(0,5)\n",
        "print(f\"Nota de Andrea: {b}\")\n",
        "c = random.randint(0,5)\n",
        "print(f\"Nota de Julián: {c}\")\n",
        "Notas_de_estudiantes = {\"Diego\":[a],\"Andrea\":[b],\"Julián\":[c]}\n",
        "x = 0\n",
        "if Notas_de_estudiantes[\"Diego\"][0] > Notas_de_estudiantes[\"Andrea\"][0] and Notas_de_estudiantes[\"Diego\"][0] > Notas_de_estudiantes[\"Julián\"][0]:\n",
        "  x = x + Notas_de_estudiantes[\"Diego\"][0]\n",
        "elif Notas_de_estudiantes[\"Andrea\"][0] > Notas_de_estudiantes[\"Diego\"][0] and Notas_de_estudiantes[\"Andrea\"][0] > Notas_de_estudiantes[\"Julián\"][0]:\n",
        "  x = x + Notas_de_estudiantes[\"Andrea\"][0]\n",
        "elif Notas_de_estudiantes[\"Julián\"][0] > Notas_de_estudiantes[\"Diego\"][0] and Notas_de_estudiantes[\"Julián\"][0] > Notas_de_estudiantes[\"Andrea\"][0]:\n",
        "  x = x + Notas_de_estudiantes[\"Julián\"][0]\n",
        "print(\"la nota mayor es:\",x)"
      ]
    },
    {
      "cell_type": "markdown",
      "source": [
        "## Ejercicio 18"
      ],
      "metadata": {
        "id": "tLOKMLXB_TK7"
      }
    },
    {
      "cell_type": "code",
      "source": [
        "import random\n",
        "a = random.randint(2000,15000)\n",
        "print(f\"Precio de la leche: {a}\")\n",
        "b = random.randint(2000,15000)\n",
        "print(f\"Precio de la papa: {b}\")\n",
        "c = random.randint(2000,15000)\n",
        "print(f\"Precio del pan: {c}\")\n",
        "Notas_de_estudiantes = {\"Leche\":[a],\"Papa\":[b],\"Pan\":[c]}\n",
        "x = 0\n",
        "if Notas_de_estudiantes[\"Leche\"][0] > Notas_de_estudiantes[\"Papa\"][0] and Notas_de_estudiantes[\"Leche\"][0] > Notas_de_estudiantes[\"Pan\"][0]:\n",
        "  x = x + Notas_de_estudiantes[\"Leche\"][0]\n",
        "elif Notas_de_estudiantes[\"Papa\"][0] > Notas_de_estudiantes[\"Leche\"][0] and Notas_de_estudiantes[\"Papa\"][0] > Notas_de_estudiantes[\"Pan\"][0]:\n",
        "  x = x + Notas_de_estudiantes[\"Papa\"][0]\n",
        "elif Notas_de_estudiantes[\"Pan\"][0] > Notas_de_estudiantes[\"Leche\"][0] and Notas_de_estudiantes[\"Pan\"][0] > Notas_de_estudiantes[\"Papa\"][0]:\n",
        "  x = x + Notas_de_estudiantes[\"Pan\"][0]\n",
        "print(\"El producto mas costoso cuesta:\",x)"
      ],
      "metadata": {
        "colab": {
          "base_uri": "https://localhost:8080/"
        },
        "id": "7JBKMBX4Dp4n",
        "outputId": "6efe3862-8700-4515-e7b8-2b07bc0a1296"
      },
      "execution_count": null,
      "outputs": [
        {
          "output_type": "stream",
          "name": "stdout",
          "text": [
            "Precio de la leche: 3464\n",
            "Precio de la papa: 10614\n",
            "Precio del pan: 10494\n",
            "El producto mas costoso cuesta: 10614\n"
          ]
        }
      ]
    },
    {
      "cell_type": "markdown",
      "source": [
        "##Ejercicio 19"
      ],
      "metadata": {
        "id": "SMEr3WHNF2Rd"
      }
    },
    {
      "cell_type": "code",
      "source": [
        "Diccionario = {}\n",
        "R = str\n",
        "x = str\n",
        "y = int\n",
        "def horas_de_trabajo(a,b):\n",
        "  return Diccionario.update({a:[b]})\n",
        "while R == \"Si\":\n",
        " R = str(input(\"Desea ingresar los parametros de otro empleado\"))\n",
        " a = str(input(\"Ingrese el nombre del empleado\"))\n",
        " b = int(input(\"Cuantas horas trabajó?\"))\n",
        " horas_de_trabajo(a,b)\n",
        "print(Diccionario)"
      ],
      "metadata": {
        "colab": {
          "base_uri": "https://localhost:8080/"
        },
        "id": "he_9ErlCF6h8",
        "outputId": "875019c3-8ac1-4e61-9eaf-36a0f6e391c3"
      },
      "execution_count": null,
      "outputs": [
        {
          "output_type": "stream",
          "name": "stdout",
          "text": [
            "{}\n"
          ]
        }
      ]
    }
  ]
}