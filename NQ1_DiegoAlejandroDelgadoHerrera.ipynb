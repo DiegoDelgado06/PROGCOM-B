{
  "cells": [
    {
      "cell_type": "markdown",
      "metadata": {
        "id": "view-in-github",
        "colab_type": "text"
      },
      "source": [
        "<a href=\"https://colab.research.google.com/github/DiegoDelgado06/PROGCOM-B/blob/main/NQ1_DiegoAlejandroDelgadoHerrera.ipynb\" target=\"_parent\"><img src=\"https://colab.research.google.com/assets/colab-badge.svg\" alt=\"Open In Colab\"/></a>"
      ]
    },
    {
      "cell_type": "markdown",
      "source": [
        "###NERD QUEST NQ1"
      ],
      "metadata": {
        "id": "D2rgxMcA6uRZ"
      }
    },
    {
      "cell_type": "markdown",
      "source": [
        "\n",
        "# PARTE 1 - INFORME TEÓRICO\n",
        "# Informe sobre Tasas de Interés\n",
        "\n",
        "Las **tasas de interés** son un elemento fundamental en las matemáticas financieras,\n",
        "ya que representan el costo o rendimiento del dinero en un periodo de tiempo determinado.\n",
        "Dependiendo de cómo se expresen, existen varias clasificaciones:\n",
        "\n",
        "## 1. Tasas Efectivas y Nominales\n",
        "- **Tasa efectiva:** refleja el verdadero costo o rendimiento en un periodo específico.\n",
        "Ejemplo: una tasa efectiva anual (TEA) muestra el interés real ganado o pagado en un año.\n",
        "- **Tasa nominal:** es una tasa que se expresa en términos anuales, pero que no tiene en cuenta\n",
        "la capitalización. Por ejemplo, una tasa nominal anual del 24% con capitalización mensual implica\n",
        "un interés del 2% cada mes.\n",
        "\n",
        "## 2. Tasas Vencidas y Anticipadas\n",
        "- **Tasa vencida:** el interés se paga al final del periodo. Es la más común.\n",
        "- **Tasa anticipada:** el interés se paga al inicio del periodo.\n",
        "\n",
        "## 3. Tasas Discretas y Continuas\n",
        "- **Discretas:** aplican la capitalización en periodos definidos (mensual, trimestral, etc.).\n",
        "- **Continuas:** aplican la capitalización en todo instante, usando la fórmula con logaritmos y exponenciales.\n",
        "\n",
        "## 4. Tasas Indexadas y Referenciales\n",
        "- **Indexadas:** varían según un indicador (por ejemplo, inflación, DTF, etc.).\n",
        "- **Referenciales:** se usan como referencia en operaciones financieras, como la tasa LIBOR o la DTF en Colombia.\n",
        "\n",
        "---\n",
        "\n",
        "## Importancia\n",
        "El entendimiento de las tasas de interés permite:\n",
        "- Evaluar proyectos de inversión.\n",
        "- Calcular cuotas de préstamos o créditos.\n",
        "- Estimar la rentabilidad de ahorros o inversiones.\n",
        "\n"
      ],
      "metadata": {
        "id": "GIi2MWYkyDh0"
      }
    },
    {
      "cell_type": "code",
      "source": [
        "def calcular_valores():\n",
        "    print(\"=== Calculadora Financiera ===\")\n",
        "    opcion = input(\"¿Qué deseas calcular? (1 = Valor Futuro, 2 = Valor Presente): \")\n",
        "    if opcion == \"1\":\n",
        "        VP = float(input(\"Ingresa el Valor Presente (monto inicial): \"))\n",
        "        i = float(input(\"Ingresa la tasa de interés por periodo (ejemplo 0.05 = 5%): \"))\n",
        "        n = int(input(\"Ingresa el número de periodos: \"))\n",
        "        VF = VP * (1 + i) ** n\n",
        "        print(f\"\\n El Valor Futuro es: {VF:,.2f}\")\n",
        "    elif opcion == \"2\":\n",
        "        VF = float(input(\"Ingresa el Valor Futuro: \"))\n",
        "        i = float(input(\"Ingresa la tasa de interés por periodo (ejemplo 0.05 = 5%): \"))\n",
        "        n = int(input(\"Ingresa el número de periodos: \"))\n",
        "        VP = VF / (1 + i) ** n\n",
        "        print(f\"\\n El Valor Presente es: {VP:,.2f}\")\n",
        "    else:\n",
        "        print(\"Opción no válida, intenta de nuevo.\")\n",
        "calcular_valores()"
      ],
      "metadata": {
        "colab": {
          "base_uri": "https://localhost:8080/"
        },
        "id": "u5inAnnqxeJB",
        "outputId": "90aa5201-96a5-4a3b-c8ca-d58f103c48dc"
      },
      "execution_count": 22,
      "outputs": [
        {
          "output_type": "stream",
          "name": "stdout",
          "text": [
            "=== Calculadora Financiera ===\n",
            "¿Qué deseas calcular? (1 = Valor Futuro, 2 = Valor Presente): 2\n",
            "Ingresa el Valor Futuro: 9000000\n",
            "Ingresa la tasa de interés por periodo (ejemplo 0.05 = 5%): 0.09\n",
            "Ingresa el número de periodos: 24\n",
            "\n",
            " El Valor Presente es: 1,137,644.47\n"
          ]
        }
      ]
    },
    {
      "cell_type": "markdown",
      "source": [
        "# PARTE 2 - INFORME TEÓRICO\n",
        "# Informe sobre Interés Simple y Compuesto\n",
        "\n",
        "## Interés Simple\n",
        "En el **interés simple**, los intereses se calculan únicamente sobre el capital inicial (VP).  \n",
        "La fórmula es:\n",
        "\n",
        "- Valor Futuro (VF):  \n",
        "  VF = VP * (1 + i * n)\n",
        "\n",
        "- Valor Presente (VP):  \n",
        "  VP = VF / (1 + i * n)\n",
        "\n",
        "---\n",
        "\n",
        "## Interés Compuesto\n",
        "En el **interés compuesto**, los intereses generados en cada periodo se suman al capital,\n",
        "de modo que en el siguiente periodo también producen intereses.  \n",
        "La fórmula es:\n",
        "\n",
        "- Valor Futuro (VF):  \n",
        "  VF = VP * (1 + i)^n\n",
        "\n",
        "- Valor Presente (VP):  \n",
        "  VP = VF / (1 + i)^n\n",
        "\n",
        "---\n",
        "\n",
        "## Diferencias Clave\n",
        "- En el **simple**, los intereses crecen linealmente.  \n",
        "- En el **compuesto**, los intereses crecen de manera exponencial.  \n"
      ],
      "metadata": {
        "id": "Ag99iEafyj6O"
      }
    },
    {
      "cell_type": "code",
      "source": [
        "def calcular_valores():\n",
        "    print(\"=== Calculadora de Interés Simple y Compuesto ===\")\n",
        "    tipo = input(\"Selecciona el tipo de interés (1 = Simple, 2 = Compuesto): \")\n",
        "    opcion = input(\"¿Qué deseas calcular? (1 = Valor Futuro, 2 = Valor Presente): \")\n",
        "    if opcion == \"1\":\n",
        "        VP = float(input(\"Ingresa el Valor Presente (monto inicial): \"))\n",
        "        i_str = input(\"Ingresa la tasa de interés por periodo (ejemplo 0.05 o 5%): \")\n",
        "        if \"%\" in i_str:\n",
        "            i = float(i_str.replace(\"%\",\"\"))/100\n",
        "        else:\n",
        "            i = float(i_str)\n",
        "        n = int(input(\"Ingresa el número de periodos: \"))\n",
        "        if tipo == \"1\":\n",
        "            VF = VP * (1 + i * n)\n",
        "            print(f\"\\n [Interés Simple] El Valor Futuro es: {VF:,.2f}\")\n",
        "        elif tipo == \"2\":\n",
        "            VF = VP * (1 + i) ** n\n",
        "            print(f\"\\n [Interés Compuesto] El Valor Futuro es: {VF:,.2f}\")\n",
        "        else:\n",
        "            print(\"Tipo de interés no válido.\")\n",
        "    elif opcion == \"2\":\n",
        "        VF = float(input(\"Ingresa el Valor Futuro: \"))\n",
        "        i_str = input(\"Ingresa la tasa de interés por periodo (ejemplo 0.05 o 5%): \")\n",
        "        if \"%\" in i_str:\n",
        "            i = float(i_str.replace(\"%\",\"\"))/100\n",
        "        else:\n",
        "            i = float(i_str)\n",
        "        n = int(input(\"Ingresa el número de periodos: \"))\n",
        "        if tipo == \"1\":\n",
        "            VP = VF / (1 + i * n)\n",
        "            print(f\"\\n [Interés Simple] El Valor Presente es: {VP:,.2f}\")\n",
        "        elif tipo == \"2\":\n",
        "            VP = VF / (1 + i) ** n\n",
        "            print(f\"\\n [Interés Compuesto] El Valor Presente es: {VP:,.2f}\")\n",
        "        else:\n",
        "            print(\"Tipo de interés no válido.\")\n",
        "    else:\n",
        "        print(\"Opción no válida, intenta de nuevo.\")\n",
        "calcular_valores()"
      ],
      "metadata": {
        "colab": {
          "base_uri": "https://localhost:8080/"
        },
        "id": "kTbwUAvE0mIC",
        "outputId": "3021231a-78b6-4f94-c794-6801422c9bd2"
      },
      "execution_count": 21,
      "outputs": [
        {
          "output_type": "stream",
          "name": "stdout",
          "text": [
            "=== Calculadora de Interés Simple y Compuesto ===\n",
            "Selecciona el tipo de interés (1 = Simple, 2 = Compuesto): 2\n",
            "¿Qué deseas calcular? (1 = Valor Futuro, 2 = Valor Presente): 1\n",
            "Ingresa el Valor Presente (monto inicial): 400000\n",
            "Ingresa la tasa de interés por periodo (ejemplo 0.05 o 5%): 0.08\n",
            "Ingresa el número de periodos: 16\n",
            "\n",
            " [Interés Compuesto] El Valor Futuro es: 1,370,377.06\n"
          ]
        }
      ]
    },
    {
      "cell_type": "markdown",
      "source": [
        "\n",
        "# PARTE 3 - INFORME TEÓRICO ANUALIDADES\n",
        "# Informe sobre Anualidades\n",
        "\n",
        "Las **anualidades** son una serie de pagos o cuotas iguales realizados en intervalos de tiempo también iguales.\n",
        "Son muy utilizadas en préstamos, inversiones y planes de ahorro.\n",
        "\n",
        "## Tipos de Anualidades\n",
        "\n",
        "### 1. Anualidad Ordinaria (o Vencida)\n",
        "Los pagos se realizan **al final de cada periodo**.\n",
        "- Fórmula del Valor Futuro (VF):  \n",
        "  VF = R * [(1+i)^n - 1] / i\n",
        "- Fórmula del Valor Presente (VP):  \n",
        "  VP = R * [1 - (1+i)^(-n)] / i\n",
        "\n",
        "### 2. Anualidad Anticipada\n",
        "Los pagos se realizan **al inicio de cada periodo**.\n",
        "- Fórmula del Valor Futuro (VF):  \n",
        "  VF = R * [(1+i)^n - 1] / i * (1+i)\n",
        "- Fórmula del Valor Presente (VP):  \n",
        "  VP = R * [1 - (1+i)^(-n)] / i * (1+i)\n",
        "\n",
        "---\n",
        "\n",
        "## Diferencias Clave\n",
        "- En la **ordinaria**, cada cuota se paga al final del periodo, por lo que se acumula menos capital.  \n",
        "- En la **anticipada**, cada cuota se paga al inicio del periodo, acumulando más capital en el mismo plazo.\n",
        "\n",
        "---\n",
        "\n",
        "## Aplicaciones\n",
        "- Cálculo de cuotas de préstamos.  \n",
        "- Estimación de ahorros futuros.  \n",
        "- Valoración de inversiones con pagos periódicos.  \n",
        "\n"
      ],
      "metadata": {
        "id": "XhSo0fC84BSS"
      }
    },
    {
      "cell_type": "code",
      "source": [
        "def calcular_anualidad():\n",
        "    print(\"=== Calculadora de Anualidades ===\")\n",
        "    tipo = input(\"Tipo de anualidad (1 = Ordinaria/Vencida, 2 = Anticipada): \")\n",
        "    opcion = input(\"¿Qué deseas calcular? (1 = Valor Futuro, 2 = Valor Presente): \")\n",
        "    R = float(input(\"Ingresa el valor de la cuota (R): \"))\n",
        "    i_str = input(\"Ingresa la tasa de interés por periodo (ejemplo 0.05 o 5%): \")\n",
        "    if \"%\" in i_str:\n",
        "        i = float(i_str.replace(\"%\",\"\"))/100\n",
        "    else:\n",
        "        i = float(i_str)\n",
        "    n = int(input(\"Ingresa el número de periodos (n): \"))\n",
        "    if opcion == \"1\":\n",
        "        if tipo == \"1\":\n",
        "            VF = R * (((1+i)**n - 1) / i)\n",
        "            print(f\"\\n[Anualidad Ordinaria] El Valor Futuro es: {VF:,.2f}\")\n",
        "        elif tipo == \"2\":\n",
        "            VF = R * (((1+i)**n - 1) / i) * (1+i)\n",
        "            print(f\"\\n [Anualidad Anticipada] El Valor Futuro es: {VF:,.2f}\")\n",
        "        else:\n",
        "            print(\"Tipo de anualidad no válido.\")\n",
        "    elif opcion == \"2\":\n",
        "        if tipo == \"1\":\n",
        "            VP = R * (1 - (1+i)**(-n)) / i\n",
        "            print(f\"\\n [Anualidad Ordinaria] El Valor Presente es: {VP:,.2f}\")\n",
        "        elif tipo == \"2\":\n",
        "            VP = R * (1 - (1+i)**(-n)) / i * (1+i)\n",
        "            print(f\"\\n [Anualidad Anticipada] El Valor Presente es: {VP:,.2f}\")\n",
        "        else:\n",
        "            print(\"Tipo de anualidad no válido.\")\n",
        "    else:\n",
        "        print(\"Opción no válida, intenta de nuevo.\")\n",
        "calcular_anualidad()"
      ],
      "metadata": {
        "id": "udBfVhjP4GJh",
        "outputId": "019046f3-3e04-449a-92fb-ad3ec8bc288d",
        "colab": {
          "base_uri": "https://localhost:8080/"
        }
      },
      "execution_count": 20,
      "outputs": [
        {
          "output_type": "stream",
          "name": "stdout",
          "text": [
            "=== Calculadora de Anualidades ===\n",
            "Tipo de anualidad (1 = Ordinaria/Vencida, 2 = Anticipada): 1\n",
            "¿Qué deseas calcular? (1 = Valor Futuro, 2 = Valor Presente): 1\n",
            "Ingresa el valor de la cuota (R): 5000\n",
            "Ingresa la tasa de interés por periodo (ejemplo 0.05 o 5%): 0.08\n",
            "Ingresa el número de periodos (n): 24\n",
            "\n",
            "[Anualidad Ordinaria] El Valor Futuro es: 333,823.80\n"
          ]
        }
      ]
    }
  ],
  "metadata": {
    "colab": {
      "name": "Te damos la bienvenida a Colaboratory",
      "provenance": [],
      "include_colab_link": true
    },
    "kernelspec": {
      "display_name": "Python 3",
      "name": "python3"
    }
  },
  "nbformat": 4,
  "nbformat_minor": 0
}