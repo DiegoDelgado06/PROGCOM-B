{
  "nbformat": 4,
  "nbformat_minor": 0,
  "metadata": {
    "colab": {
      "provenance": [],
      "authorship_tag": "ABX9TyM9ofb0AWKZq4ljXXNrsNn1",
      "include_colab_link": true
    },
    "kernelspec": {
      "name": "python3",
      "display_name": "Python 3"
    },
    "language_info": {
      "name": "python"
    }
  },
  "cells": [
    {
      "cell_type": "markdown",
      "metadata": {
        "id": "view-in-github",
        "colab_type": "text"
      },
      "source": [
        "<a href=\"https://colab.research.google.com/github/DiegoDelgado06/PROGCOM-B/blob/main/Actividadiccionarios.ipynb\" target=\"_parent\"><img src=\"https://colab.research.google.com/assets/colab-badge.svg\" alt=\"Open In Colab\"/></a>"
      ]
    },
    {
      "cell_type": "markdown",
      "source": [
        "##Diccionarios\n",
        "Estructura de datos que almacena valores\n",
        "\n",
        "Sintaxis\n",
        "\n",
        "\n",
        "```\n",
        "nombre_diccionario={\"llave\":valor}\n",
        "```\n",
        "* Llave: **SIEMPRE** tiene que ser alfanumerica\n",
        "* valor: Cualquier tipo de dato\n"
      ],
      "metadata": {
        "id": "2Oz3lCHabaEP"
      }
    },
    {
      "cell_type": "code",
      "execution_count": 11,
      "metadata": {
        "id": "53RuteN1bNgz"
      },
      "outputs": [],
      "source": [
        "liga_justicia={\"superheroes\":[\"Batman\",\"superman\",\"wonderwoman\"],\"identidades\":[\"Bruce Wayne\",\"Clark kent\",\"Diana Prince\"]}"
      ]
    },
    {
      "cell_type": "code",
      "source": [
        "type(liga_justicia)"
      ],
      "metadata": {
        "id": "EgNyY_Izcl5V"
      },
      "execution_count": null,
      "outputs": []
    },
    {
      "cell_type": "code",
      "source": [
        "liga_justicia"
      ],
      "metadata": {
        "colab": {
          "base_uri": "https://localhost:8080/"
        },
        "id": "omIbLhe8cqRl",
        "outputId": "307b19c6-6ccd-4af8-a71c-025a57e5f842"
      },
      "execution_count": 12,
      "outputs": [
        {
          "output_type": "execute_result",
          "data": {
            "text/plain": [
              "{'superheroes': ['Batman', 'superman', 'wonderwoman'],\n",
              " 'identidades': ['Bruce Wayne', 'Clark kent', 'Diana Prince']}"
            ]
          },
          "metadata": {},
          "execution_count": 12
        }
      ]
    },
    {
      "cell_type": "code",
      "source": [
        "liga_justicia[\"superheroes\"]"
      ],
      "metadata": {
        "colab": {
          "base_uri": "https://localhost:8080/"
        },
        "id": "_MHu-vXyeF3r",
        "outputId": "53439726-9684-48d7-e8cd-5af25275b46a"
      },
      "execution_count": 23,
      "outputs": [
        {
          "output_type": "execute_result",
          "data": {
            "text/plain": [
              "['Batman', 'superman', 'wonderwoman']"
            ]
          },
          "metadata": {},
          "execution_count": 23
        }
      ]
    },
    {
      "cell_type": "code",
      "source": [
        "liga_justicia[\"superheroes\"][2]"
      ],
      "metadata": {
        "colab": {
          "base_uri": "https://localhost:8080/",
          "height": 35
        },
        "id": "dPJT0Bi2fC_b",
        "outputId": "d2cbc631-e232-45d7-dfa3-f81e9347d03b"
      },
      "execution_count": 31,
      "outputs": [
        {
          "output_type": "execute_result",
          "data": {
            "text/plain": [
              "'wonderwoman'"
            ],
            "application/vnd.google.colaboratory.intrinsic+json": {
              "type": "string"
            }
          },
          "metadata": {},
          "execution_count": 31
        }
      ]
    },
    {
      "cell_type": "code",
      "source": [
        "liga_justicia[\"superheroes\"][1]"
      ],
      "metadata": {
        "colab": {
          "base_uri": "https://localhost:8080/",
          "height": 35
        },
        "id": "HsMTGdg4fLBy",
        "outputId": "57889010-71a8-4f88-9e62-991d8f10f54a"
      },
      "execution_count": 32,
      "outputs": [
        {
          "output_type": "execute_result",
          "data": {
            "text/plain": [
              "'superman'"
            ],
            "application/vnd.google.colaboratory.intrinsic+json": {
              "type": "string"
            }
          },
          "metadata": {},
          "execution_count": 32
        }
      ]
    },
    {
      "cell_type": "code",
      "source": [
        "liga_justicia[\"superheroes\"][0]"
      ],
      "metadata": {
        "colab": {
          "base_uri": "https://localhost:8080/",
          "height": 35
        },
        "id": "KxFvAhUvfOUM",
        "outputId": "c539dd65-b6d9-4e95-86f9-85dce999fc81"
      },
      "execution_count": 33,
      "outputs": [
        {
          "output_type": "execute_result",
          "data": {
            "text/plain": [
              "'Batman'"
            ],
            "application/vnd.google.colaboratory.intrinsic+json": {
              "type": "string"
            }
          },
          "metadata": {},
          "execution_count": 33
        }
      ]
    },
    {
      "cell_type": "code",
      "source": [
        "liga_justicia[\"identidades\"][2]"
      ],
      "metadata": {
        "colab": {
          "base_uri": "https://localhost:8080/",
          "height": 35
        },
        "id": "3S_1Bl8neZRz",
        "outputId": "46d17aee-62fd-4af4-c676-076aa2205852"
      },
      "execution_count": 28,
      "outputs": [
        {
          "output_type": "execute_result",
          "data": {
            "text/plain": [
              "'Diana Prince'"
            ],
            "application/vnd.google.colaboratory.intrinsic+json": {
              "type": "string"
            }
          },
          "metadata": {},
          "execution_count": 28
        }
      ]
    },
    {
      "cell_type": "code",
      "source": [
        "liga_justicia[\"identidades\"][1]"
      ],
      "metadata": {
        "colab": {
          "base_uri": "https://localhost:8080/",
          "height": 35
        },
        "id": "cQ9us1X0erbD",
        "outputId": "c48b44ce-f9a3-4170-aba5-a02e3e22e01c"
      },
      "execution_count": 29,
      "outputs": [
        {
          "output_type": "execute_result",
          "data": {
            "text/plain": [
              "'Clark kent'"
            ],
            "application/vnd.google.colaboratory.intrinsic+json": {
              "type": "string"
            }
          },
          "metadata": {},
          "execution_count": 29
        }
      ]
    },
    {
      "cell_type": "code",
      "source": [
        "liga_justicia[\"superheroes\"][0]"
      ],
      "metadata": {
        "colab": {
          "base_uri": "https://localhost:8080/",
          "height": 35
        },
        "id": "oMYUndUAe0YL",
        "outputId": "bed20532-e23c-4600-eb9b-19922251d784"
      },
      "execution_count": 30,
      "outputs": [
        {
          "output_type": "execute_result",
          "data": {
            "text/plain": [
              "'Batman'"
            ],
            "application/vnd.google.colaboratory.intrinsic+json": {
              "type": "string"
            }
          },
          "metadata": {},
          "execution_count": 30
        }
      ]
    },
    {
      "cell_type": "markdown",
      "source": [
        "#####Funciones asociadas a los diccionarios"
      ],
      "metadata": {
        "id": "gxieiIT2fSDS"
      }
    },
    {
      "cell_type": "markdown",
      "source": [
        "1. La funcion liga_justicia.clear elimina todos lo escrito dentro del diccionario dejandolo vacio.\n",
        "\n",
        "Ejemplo:\n",
        "```\n",
        "liga_justicia.clear()\n",
        "print(liga_justicia)  # {}\n",
        "\n",
        "```\n",
        "2.liga_justicia.copy hace una copia superficial del diccionario\n",
        "\n",
        "Ejemplo:\n",
        "\n",
        "```\n",
        "copia = liga_justicia.copy()\n",
        "print(copia)\n",
        "\n",
        "```\n",
        "3. La funcion fromkeys \"liga_justicia.fromkeys\" crea un nuevo diccionario con las claves que le des\n",
        "\n",
        "Ejemplo:\n",
        "\n",
        "```\n",
        "nuevo = dict.fromkeys([\"a\", \"b\", \"c\"], 0)\n",
        "print(nuevo)  # {'a': 0, 'b': 0, 'c': 0}\n",
        "\n",
        "```\n",
        "4. La funcion liga_justicia.get obtiene el valor asociado a una clave, si la clave no existe, devuelve un valor por defecto (o None)\n",
        "\n",
        "Ejemplo:\n",
        "\n",
        "```\n",
        "superheroes = liga_justicia.get(\"superheroes\")\n",
        "villanos = liga_justicia.get(\"villanos\", \"No hay villanos\")\n",
        "print(superheroes)\n",
        "print(villanos)\n",
        "\n",
        "```\n",
        "5. La funcion liga_justicia.items devuelve una vista con pares (clave, valor) para recorrerlos fácilmente.\n",
        "\n",
        "Ejemplo:\n",
        "\n",
        "```\n",
        "for clave, valor in liga_justicia.items():\n",
        "    print(clave, valor)\n",
        "\n",
        "```\n",
        "6. La funcion liga_justicia.keys devuelve una vista con todas las claves del diccionario\n",
        "\n",
        "Ejemplo:\n",
        "\n",
        "```\n",
        "print(list(liga_justicia.keys()))\n",
        "\n",
        "```\n",
        "7. La funcion liga_justicia.pop elimina una de las llaves\n",
        "\n",
        "Ejemplo:\n",
        "\n",
        "\n",
        "```\n",
        "identidades = liga_justicia.pop(\"identidades\")\n",
        "print(identidades)\n",
        "print(liga_justicia)\n",
        "\n",
        "```\n",
        "8. La funcion liga_justicia.popitem elimina y devuelve el ultimo par\n",
        "\n",
        "Ejemplo:\n",
        "\n",
        "\n",
        "```\n",
        "clave, valor = liga_justicia.popitem()\n",
        "print(clave, valor)\n",
        "print(liga_justicia)\n",
        "\n",
        "```\n",
        "9. La funcion liga_justicia.setdefault devuelve el valor de una clave; si no existe, la crea con un valor por defecto.\n",
        "\n",
        "Ejemplo:\n",
        "\n",
        "\n",
        "```\n",
        "identidades = liga_justicia.setdefault(\"identidades\", [\"Bruce Wayne\", \"Clark kent\", \"Diana Prince\"])\n",
        "print(identidades)\n",
        "print(liga_justicia)\n",
        "\n",
        "```\n",
        "10. La funcion liga_justicia.update agrega o actualiza pares en el diccionario\n",
        "\n",
        "Ejemplo:\n",
        "\n",
        "\n",
        "```\n",
        "liga_justicia.update({\"villanos\": [\"Joker\", \"Lex Luthor\"]})\n",
        "print(liga_justicia)\n",
        "\n",
        "```\n",
        "11. La funcion liga_justicia.values devuelve una vista con todos los valores del diccionario\n",
        "\n",
        "Ejemplo:\n",
        "\n",
        "\n",
        "\n",
        "```\n",
        "print(list(liga_justicia.values()))\n",
        "\n",
        "```\n",
        "\n",
        "\n",
        "\n",
        "\n",
        "\n",
        "\n",
        "\n",
        "\n"
      ],
      "metadata": {
        "id": "5fxBgFiGhy_w"
      }
    },
    {
      "cell_type": "code",
      "source": [
        "liga_justicia.clear"
      ],
      "metadata": {
        "colab": {
          "base_uri": "https://localhost:8080/"
        },
        "id": "b8F7H9r4faWK",
        "outputId": "f20a08de-4fcd-43a5-9667-81e7b5173e95"
      },
      "execution_count": 34,
      "outputs": [
        {
          "output_type": "execute_result",
          "data": {
            "text/plain": [
              "<function dict.clear>"
            ]
          },
          "metadata": {},
          "execution_count": 34
        }
      ]
    },
    {
      "cell_type": "code",
      "source": [
        "liga_justicia.copy"
      ],
      "metadata": {
        "id": "T6t0_160gvep"
      },
      "execution_count": null,
      "outputs": []
    },
    {
      "cell_type": "code",
      "source": [
        "liga_justicia.fromkeys"
      ],
      "metadata": {
        "id": "isEcq3Krgx35"
      },
      "execution_count": null,
      "outputs": []
    },
    {
      "cell_type": "code",
      "source": [
        "liga_justicia.get"
      ],
      "metadata": {
        "id": "SRxefBbcgz1J"
      },
      "execution_count": null,
      "outputs": []
    },
    {
      "cell_type": "code",
      "source": [
        "liga_justicia.items"
      ],
      "metadata": {
        "id": "qUWBKFY2g2cR"
      },
      "execution_count": null,
      "outputs": []
    },
    {
      "cell_type": "code",
      "source": [
        "liga_justicia.keys"
      ],
      "metadata": {
        "id": "2MZH_TEXg5EI"
      },
      "execution_count": null,
      "outputs": []
    },
    {
      "cell_type": "code",
      "source": [
        "liga_justicia.pop"
      ],
      "metadata": {
        "id": "WcZT2hf3g7B5"
      },
      "execution_count": null,
      "outputs": []
    },
    {
      "cell_type": "code",
      "source": [
        "liga_justicia.popitem"
      ],
      "metadata": {
        "id": "TxzgIm2gg8ri"
      },
      "execution_count": null,
      "outputs": []
    },
    {
      "cell_type": "code",
      "source": [
        "liga_justicia.setdefault"
      ],
      "metadata": {
        "id": "Jq_d-LFLg-15"
      },
      "execution_count": null,
      "outputs": []
    },
    {
      "cell_type": "code",
      "source": [
        "liga_justicia.update"
      ],
      "metadata": {
        "id": "nJTP_RcPhBiB"
      },
      "execution_count": null,
      "outputs": []
    },
    {
      "cell_type": "code",
      "source": [
        "liga_justicia.values"
      ],
      "metadata": {
        "id": "rHkSHGrjhFtZ"
      },
      "execution_count": null,
      "outputs": []
    }
  ]
}