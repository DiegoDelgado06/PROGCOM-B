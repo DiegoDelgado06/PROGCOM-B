{
  "nbformat": 4,
  "nbformat_minor": 0,
  "metadata": {
    "colab": {
      "provenance": [],
      "authorship_tag": "ABX9TyPlMzFLkSHSJahH4tmJhAYi",
      "include_colab_link": true
    },
    "kernelspec": {
      "name": "python3",
      "display_name": "Python 3"
    },
    "language_info": {
      "name": "python"
    }
  },
  "cells": [
    {
      "cell_type": "markdown",
      "metadata": {
        "id": "view-in-github",
        "colab_type": "text"
      },
      "source": [
        "<a href=\"https://colab.research.google.com/github/DiegoDelgado06/PROGCOM-B/blob/main/Clase_5_Listas.ipynb\" target=\"_parent\"><img src=\"https://colab.research.google.com/assets/colab-badge.svg\" alt=\"Open In Colab\"/></a>"
      ]
    },
    {
      "cell_type": "markdown",
      "source": [
        "##Listas\n",
        "Es un nuevo tipo de dato con las siguientes caracteristicas:\n",
        "1. Sus datos internos son inmutables\n",
        "2. Es indexado, por lo tanto tiene un orden (desde 0 hasta n-1)\n",
        "3. Hay un numero finito de posiciones\n",
        "4. Todas las listas se abren y cierran con[] y se separan con \",\".\n",
        "\n",
        "Sintaxis\n",
        "\n",
        "```\n",
        "nombre_lista=[]\n",
        "flores=[\"margarita\",\"rosa\",\"tulipan\"]\n",
        "\n",
        "```\n",
        "Listas por extension\n"
      ],
      "metadata": {
        "id": "pLpFkfY986d8"
      }
    },
    {
      "cell_type": "code",
      "execution_count": 2,
      "metadata": {
        "colab": {
          "base_uri": "https://localhost:8080/"
        },
        "id": "F1aBZ7mK82ZI",
        "outputId": "68b02d7d-5a8b-48ac-eb2f-550338f49f0e"
      },
      "outputs": [
        {
          "output_type": "stream",
          "name": "stdout",
          "text": [
            "[1, 2, 3, 4, 5, 6, 7, 8, 9, 10]\n"
          ]
        }
      ],
      "source": [
        "nu=[]\n",
        "for i in range(10):\n",
        "  nu.append(i+1)\n",
        "print(nu)"
      ]
    },
    {
      "cell_type": "code",
      "source": [
        "nombres=[]\n",
        "for i in range(3):\n",
        "  nombres.append(input(\"Ingrese un nombre:\"))"
      ],
      "metadata": {
        "colab": {
          "base_uri": "https://localhost:8080/"
        },
        "id": "YubLmqli-rQq",
        "outputId": "7eecda59-6b2b-4adf-d2e3-8f8a68d654f7"
      },
      "execution_count": 4,
      "outputs": [
        {
          "name": "stdout",
          "output_type": "stream",
          "text": [
            "Ingrese un nombre:1\n",
            "Ingrese un nombre:2\n",
            "Ingrese un nombre:3\n"
          ]
        }
      ]
    },
    {
      "cell_type": "markdown",
      "source": [
        "##Listas de comprension\n",
        "Son expresiones que generan listas\n",
        "Sintaxis:\n",
        "\n",
        "```\n",
        "nombre_lista=[Expresion for variable in iteracion if condicion]\n",
        "```\n",
        "\n"
      ],
      "metadata": {
        "id": "eIw-uUUe_j9B"
      }
    },
    {
      "cell_type": "markdown",
      "source": [
        "Ejemplo"
      ],
      "metadata": {
        "id": "h-nGfPSh_2Ix"
      }
    },
    {
      "cell_type": "code",
      "source": [
        "#1. Convertir una lista de oraciones en una lista de palabras\n",
        "oracion=[\"aqui va una oracion\",\"aqui va otra oracion\",\"aqui va la tercera oracion\"]\n",
        "len(oracion)"
      ],
      "metadata": {
        "colab": {
          "base_uri": "https://localhost:8080/"
        },
        "id": "nG-HEkJJ_AEp",
        "outputId": "19c5037b-54d3-4cff-f04d-200c238f0343"
      },
      "execution_count": 5,
      "outputs": [
        {
          "output_type": "execute_result",
          "data": {
            "text/plain": [
              "3"
            ]
          },
          "metadata": {},
          "execution_count": 5
        }
      ]
    },
    {
      "cell_type": "code",
      "source": [
        "palabras=[i.split() for i in oracion]\n",
        "palabras\n"
      ],
      "metadata": {
        "colab": {
          "base_uri": "https://localhost:8080/"
        },
        "id": "PZMTXy41AOvY",
        "outputId": "f7f15a9e-dbb6-44dd-8715-fe7e4a3df743"
      },
      "execution_count": 10,
      "outputs": [
        {
          "output_type": "execute_result",
          "data": {
            "text/plain": [
              "[['aqui', 'va', 'una', 'oracion'],\n",
              " ['aqui', 'va', 'otra', 'oracion'],\n",
              " ['aqui', 'va', 'la', 'tercera', 'oracion']]"
            ]
          },
          "metadata": {},
          "execution_count": 10
        }
      ]
    },
    {
      "cell_type": "code",
      "source": [
        "len(palabras[2])"
      ],
      "metadata": {
        "colab": {
          "base_uri": "https://localhost:8080/"
        },
        "id": "AKBOe8tRBfJH",
        "outputId": "10ef19e8-d77e-4ce9-aadd-cfe388633f2c"
      },
      "execution_count": 11,
      "outputs": [
        {
          "output_type": "execute_result",
          "data": {
            "text/plain": [
              "5"
            ]
          },
          "metadata": {},
          "execution_count": 11
        }
      ]
    },
    {
      "cell_type": "markdown",
      "source": [
        "##Indexacion en listas\n",
        "*Recordar que python cuanta desde\n",
        "**0***\n",
        "```\n",
        "Lista=[Elemento1, Elemento2, Elemento3]\n",
        "Lista[0]=Elemento1\n",
        "Lista[3]=error fuera del rango\n",
        "```\n",
        "\n"
      ],
      "metadata": {
        "id": "eM7FYnpGDTUl"
      }
    },
    {
      "cell_type": "code",
      "source": [
        "#Indexacion negativa\n",
        "Lista_num=[1,2,3,4,5,6,7,8,9,10]\n",
        "Lista_num[-1]"
      ],
      "metadata": {
        "colab": {
          "base_uri": "https://localhost:8080/"
        },
        "id": "icRbyNtQEN79",
        "outputId": "09f1f86d-d885-4578-db05-62bca14bcc91"
      },
      "execution_count": 12,
      "outputs": [
        {
          "output_type": "execute_result",
          "data": {
            "text/plain": [
              "10"
            ]
          },
          "metadata": {},
          "execution_count": 12
        }
      ]
    },
    {
      "cell_type": "code",
      "source": [
        "Lista_num[-5]"
      ],
      "metadata": {
        "colab": {
          "base_uri": "https://localhost:8080/"
        },
        "id": "TL9GuAYvEktE",
        "outputId": "629094a7-4b94-4900-8d06-b4ad236465bd"
      },
      "execution_count": 23,
      "outputs": [
        {
          "output_type": "execute_result",
          "data": {
            "text/plain": [
              "6"
            ]
          },
          "metadata": {},
          "execution_count": 23
        }
      ]
    },
    {
      "cell_type": "code",
      "source": [
        "Lista_num[len(Lista_num)-1]"
      ],
      "metadata": {
        "colab": {
          "base_uri": "https://localhost:8080/"
        },
        "id": "LtcVdqyaE04T",
        "outputId": "a925cc2f-f058-4bab-e9d3-9771c3716e05"
      },
      "execution_count": 19,
      "outputs": [
        {
          "output_type": "execute_result",
          "data": {
            "text/plain": [
              "10"
            ]
          },
          "metadata": {},
          "execution_count": 19
        }
      ]
    },
    {
      "cell_type": "code",
      "source": [
        "Lista_num[::]"
      ],
      "metadata": {
        "colab": {
          "base_uri": "https://localhost:8080/"
        },
        "id": "3hGZkSdGFfE0",
        "outputId": "5bb4093b-491d-4719-85e4-0a1247935b0d"
      },
      "execution_count": 24,
      "outputs": [
        {
          "output_type": "execute_result",
          "data": {
            "text/plain": [
              "[1, 2, 3, 4, 5, 6, 7, 8, 9, 10]"
            ]
          },
          "metadata": {},
          "execution_count": 24
        }
      ]
    },
    {
      "cell_type": "code",
      "source": [
        "Lista_num[:2]"
      ],
      "metadata": {
        "colab": {
          "base_uri": "https://localhost:8080/"
        },
        "id": "i8qSqLKYFmNT",
        "outputId": "f3fe2b4c-63d6-4e58-bc2e-a49e76aa7ab2"
      },
      "execution_count": 25,
      "outputs": [
        {
          "output_type": "execute_result",
          "data": {
            "text/plain": [
              "[1, 2]"
            ]
          },
          "metadata": {},
          "execution_count": 25
        }
      ]
    },
    {
      "cell_type": "code",
      "source": [
        "#2. Obtener los pares de la Lista_num\n",
        "pares=[x for x in Lista_num if x%2==0]\n",
        "pares"
      ],
      "metadata": {
        "colab": {
          "base_uri": "https://localhost:8080/"
        },
        "id": "ozMko5HFF9h7",
        "outputId": "422332d4-49e8-4b4c-fba1-83dcbac22118"
      },
      "execution_count": 26,
      "outputs": [
        {
          "output_type": "execute_result",
          "data": {
            "text/plain": [
              "[2, 4, 6, 8, 10]"
            ]
          },
          "metadata": {},
          "execution_count": 26
        }
      ]
    },
    {
      "cell_type": "code",
      "source": [
        "#3. Clasificar numeros en positivos y negativos\n",
        "numeros=[-1,2,-3,4,-5,6,-7,8,-9,10]\n",
        "clasificacion=[(\"positivo\",x) if x>=0 else (\"negativo\",x) for x in numeros]\n",
        "clasificacion\n"
      ],
      "metadata": {
        "colab": {
          "base_uri": "https://localhost:8080/"
        },
        "id": "_rcVic8EGveK",
        "outputId": "0b7d92e5-47fb-4592-b404-b5e9e7269b60"
      },
      "execution_count": 28,
      "outputs": [
        {
          "output_type": "execute_result",
          "data": {
            "text/plain": [
              "[('negativo', -1),\n",
              " ('positivo', 2),\n",
              " ('negativo', -3),\n",
              " ('positivo', 4),\n",
              " ('negativo', -5),\n",
              " ('positivo', 6),\n",
              " ('negativo', -7),\n",
              " ('positivo', 8),\n",
              " ('negativo', -9),\n",
              " ('positivo', 10)]"
            ]
          },
          "metadata": {},
          "execution_count": 28
        }
      ]
    }
  ]
}