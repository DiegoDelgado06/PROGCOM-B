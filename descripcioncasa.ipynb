{
  "nbformat": 4,
  "nbformat_minor": 0,
  "metadata": {
    "colab": {
      "provenance": [],
      "authorship_tag": "ABX9TyN5ZP8J3U3Qzuuq+5pUvJ/J",
      "include_colab_link": true
    },
    "kernelspec": {
      "name": "python3",
      "display_name": "Python 3"
    },
    "language_info": {
      "name": "python"
    }
  },
  "cells": [
    {
      "cell_type": "markdown",
      "metadata": {
        "id": "view-in-github",
        "colab_type": "text"
      },
      "source": [
        "<a href=\"https://colab.research.google.com/github/DiegoDelgado06/PROGCOM-B/blob/main/descripcioncasa.ipynb\" target=\"_parent\"><img src=\"https://colab.research.google.com/assets/colab-badge.svg\" alt=\"Open In Colab\"/></a>"
      ]
    },
    {
      "cell_type": "code",
      "execution_count": 10,
      "metadata": {
        "id": "xYjyqaki1SNx"
      },
      "outputs": [],
      "source": [
        "def describir_floristeria():\n",
        "    print(\"Bienvenido a la *Floritería DADH*\")\n",
        "    print(\"Nuestra floristería está construida con ladrillos,\")\n",
        "    print(\"perfectamente intercalados, unidos por líneas de cemento gris,\")\n",
        "    print(\"que le dan un aire artesanal, sólido y auténtico.\")\n",
        "    print(\"\")\n",
        "    print(\"Al frente, las plantas trepadoras decoran con vida:\")\n",
        "    print(\"— dos descienden desde el techo en forma de cascada verde,\")\n",
        "    print(\"— y dos suben desde el suelo, buscando la luz.\")\n",
        "    print(\"\")\n",
        "    print(\"En la parte trasera, un grafiti urbano grita 'DADH',\")\n",
        "    print(\"firmando con estilo el alma del local.\")\n",
        "    print(\"\")\n",
        "    print(\"La puerta de madera marrón invita con calidez,\")\n",
        "    print(\"y en la esquina superior izquierda, una ventana permite ver\")\n",
        "    print(\"a una persona asomada, observando la vida pasar entre flores.\")\n",
        "    print(\"\")\n",
        "    print(\"Te damos la bienvenida a un espacio donde cada detalle\")\n"
      ]
    }
  ]
}