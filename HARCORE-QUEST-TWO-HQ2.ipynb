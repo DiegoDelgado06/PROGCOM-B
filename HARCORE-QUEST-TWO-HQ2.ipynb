{
  "nbformat": 4,
  "nbformat_minor": 0,
  "metadata": {
    "colab": {
      "provenance": [],
      "authorship_tag": "ABX9TyNip2/tfF+0pJTD0yBy+ck9",
      "include_colab_link": true
    },
    "kernelspec": {
      "name": "python3",
      "display_name": "Python 3"
    },
    "language_info": {
      "name": "python"
    }
  },
  "cells": [
    {
      "cell_type": "markdown",
      "metadata": {
        "id": "view-in-github",
        "colab_type": "text"
      },
      "source": [
        "<a href=\"https://colab.research.google.com/github/DiegoDelgado06/PROGCOM-B/blob/main/HARCORE-QUEST-TWO-HQ2.ipynb\" target=\"_parent\"><img src=\"https://colab.research.google.com/assets/colab-badge.svg\" alt=\"Open In Colab\"/></a>"
      ]
    },
    {
      "cell_type": "code",
      "source": [
        "# Instala dependencias\n",
        "!pip install pygame opencv-python-headless\n",
        "\n",
        "import pygame\n",
        "import numpy as np\n",
        "import cv2\n",
        "from IPython.display import display, clear_output, Image\n",
        "from PIL import Image as PILImage\n",
        "import io\n",
        "import time\n",
        "\n",
        "# Inicializar pygame sin ventana real\n",
        "pygame.display.init()\n",
        "pygame.font.init()\n",
        "\n",
        "# Configuración de pantalla simulada\n",
        "WIDTH, HEIGHT = 600, 400\n",
        "surface = pygame.Surface((WIDTH, HEIGHT))\n",
        "\n",
        "# Paleta\n",
        "paddle = pygame.Rect(WIDTH // 2 - 50, HEIGHT - 30, 100, 10)\n",
        "paddle_speed = 6\n",
        "\n",
        "# Bola\n",
        "ball = pygame.Rect(WIDTH // 2, HEIGHT // 2, 15, 15)\n",
        "ball_dx, ball_dy = 4, -4\n",
        "\n",
        "# Bloques\n",
        "block_width = 60\n",
        "block_height = 20\n",
        "blocks = []\n",
        "\n",
        "def create_blocks():\n",
        "    for row in range(5):\n",
        "        for col in range(10):\n",
        "            block = pygame.Rect(col * (block_width + 5) + 20, row * (block_height + 5) + 40, block_width, block_height)\n",
        "            blocks.append(block)\n",
        "\n",
        "# Colores\n",
        "BLACK = (0, 0, 0)\n",
        "WHITE = (255, 255, 255)\n",
        "BLUE = (0, 150, 255)\n",
        "GREEN = (0, 255, 0)\n",
        "RED = (255, 0, 0)\n",
        "\n",
        "create_blocks()\n",
        "\n",
        "# Fuente\n",
        "font = pygame.font.SysFont(\"Arial\", 24)\n",
        "\n",
        "def draw():\n",
        "    surface.fill(BLACK)\n",
        "    for block in blocks:\n",
        "        pygame.draw.rect(surface, RED, block)\n",
        "    pygame.draw.rect(surface, GREEN, paddle)\n",
        "    pygame.draw.ellipse(surface, BLUE, ball)\n",
        "\n",
        "def render_and_display():\n",
        "    data = pygame.surfarray.array3d(surface)\n",
        "    image = cv2.transpose(data)\n",
        "    image = cv2.cvtColor(image, cv2.COLOR_RGB2BGR)\n",
        "    _, im_arr = cv2.imencode('.png', image)\n",
        "    im_bytes = im_arr.tobytes()\n",
        "    display(Image(data=im_bytes))\n",
        "    clear_output(wait=True)\n",
        "\n",
        "# Simulación simple con teclas automáticas\n",
        "def colab_game_loop():\n",
        "    global ball_dx, ball_dy\n",
        "    for frame in range(500):  # Ejecuta 500 frames (~10 segundos)\n",
        "        # Movimiento automático de paleta\n",
        "        if ball.centerx < paddle.centerx and paddle.left > 0:\n",
        "            paddle.x -= paddle_speed\n",
        "        elif ball.centerx > paddle.centerx and paddle.right < WIDTH:\n",
        "            paddle.x += paddle_speed\n",
        "\n",
        "        # Movimiento de la bola\n",
        "        ball.x += ball_dx\n",
        "        ball.y += ball_dy\n",
        "\n",
        "        # Rebote en paredes\n",
        "        if ball.left <= 0 or ball.right >= WIDTH:\n",
        "            ball_dx *= -1\n",
        "        if ball.top <= 0:\n",
        "            ball_dy *= -1\n",
        "\n",
        "        # Rebote con paleta\n",
        "        if ball.colliderect(paddle):\n",
        "            ball_dy *= -1\n",
        "\n",
        "        # Rebote con bloques\n",
        "        for block in blocks[:]:\n",
        "            if ball.colliderect(block):\n",
        "                ball_dy *= -1\n",
        "                blocks.remove(block)\n",
        "                break\n",
        "\n",
        "        # Fin de juego si cae\n",
        "        if ball.bottom >= HEIGHT:\n",
        "            break\n",
        "\n",
        "        draw()\n",
        "        render_and_display()\n",
        "        time.sleep(0.03)  # Control de velocidad\n",
        "\n",
        "    draw()\n",
        "    render_and_display()\n",
        "    print(\"🎮 ¡Juego terminado!\")\n",
        "\n",
        "# Ejecutar\n",
        "colab_game_loop()\n"
      ],
      "metadata": {
        "colab": {
          "base_uri": "https://localhost:8080/",
          "height": 0
        },
        "id": "H1bzLte-VZW8",
        "outputId": "92da4955-cb2f-412f-acca-55012869d731"
      },
      "execution_count": 10,
      "outputs": [
        {
          "output_type": "stream",
          "name": "stdout",
          "text": [
            "🎮 ¡Juego terminado!\n"
          ]
        }
      ]
    }
  ]
}