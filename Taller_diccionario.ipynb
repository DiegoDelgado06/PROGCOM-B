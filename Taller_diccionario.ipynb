{
  "nbformat": 4,
  "nbformat_minor": 0,
  "metadata": {
    "colab": {
      "provenance": [],
      "authorship_tag": "ABX9TyPSGVBlnqozy+yD24nTLy+T",
      "include_colab_link": true
    },
    "kernelspec": {
      "name": "python3",
      "display_name": "Python 3"
    },
    "language_info": {
      "name": "python"
    }
  },
  "cells": [
    {
      "cell_type": "markdown",
      "metadata": {
        "id": "view-in-github",
        "colab_type": "text"
      },
      "source": [
        "<a href=\"https://colab.research.google.com/github/DiegoDelgado06/PROGCOM-B/blob/main/Taller_diccionario.ipynb\" target=\"_parent\"><img src=\"https://colab.research.google.com/assets/colab-badge.svg\" alt=\"Open In Colab\"/></a>"
      ]
    },
    {
      "cell_type": "markdown",
      "source": [
        "###**SOLUCION PRUEBA DIGANOSTICA PARTE 3, PUNTOS DESDE EL 10 HASTA EL 12, UTILIZANDO DICCIONARIOS Y LISTAS POR COMPRENSION**"
      ],
      "metadata": {
        "id": "T4WRxn_I61EK"
      }
    },
    {
      "cell_type": "markdown",
      "source": [
        "##Ejercicio numero 10"
      ],
      "metadata": {
        "id": "0tw3ZzeK6C8S"
      }
    },
    {
      "cell_type": "markdown",
      "source": [
        "Problema: *Crea una función que reciba una lista de nombres y retorne cuántos nombres comienzan con vocal.*"
      ],
      "metadata": {
        "id": "3NjkAsjR9ErI"
      }
    },
    {
      "cell_type": "markdown",
      "source": [
        "1.Diccionario"
      ],
      "metadata": {
        "id": "jNdFjssm6I0S"
      }
    },
    {
      "cell_type": "code",
      "source": [
        "def contar_nombres_con_vocal(nombres):\n",
        "    vocales = 'aeiouAEIOU'\n",
        "    resultado = {}\n",
        "    for nombre in nombres:\n",
        "        if nombre[0] in vocales:\n",
        "            resultado[nombre] = True\n",
        "    return len(resultado)\n",
        "nombres = [\"Andrea\", \"Alejandro\", \"Julian\"] #Los tres mosqueteros jaja\n",
        "print(contar_nombres_con_vocal(nombres))"
      ],
      "metadata": {
        "colab": {
          "base_uri": "https://localhost:8080/"
        },
        "id": "nWaZhI5g6LiC",
        "outputId": "d2ac6d18-c6a4-4565-abeb-ab221d2894c5"
      },
      "execution_count": 5,
      "outputs": [
        {
          "output_type": "stream",
          "name": "stdout",
          "text": [
            "2\n"
          ]
        }
      ]
    },
    {
      "cell_type": "markdown",
      "source": [
        "2. Lista por comprension"
      ],
      "metadata": {
        "id": "PJ2CvKFV6Tx6"
      }
    },
    {
      "cell_type": "code",
      "source": [
        "def contar_nombres_con_vocal(nombres):\n",
        "    return len([nombre for nombre in nombres if nombre[0] in 'aeiouAEIOU'])\n",
        "nombres = [\"Andrea\", \"Alejandro\", \"Julian\"] #Los extraditables\n",
        "print(contar_nombres_con_vocal(nombres))"
      ],
      "metadata": {
        "colab": {
          "base_uri": "https://localhost:8080/"
        },
        "id": "PVyXRKi68AAx",
        "outputId": "0b5cd000-6a63-4c25-e596-748449563978"
      },
      "execution_count": 6,
      "outputs": [
        {
          "output_type": "stream",
          "name": "stdout",
          "text": [
            "2\n"
          ]
        }
      ]
    },
    {
      "cell_type": "markdown",
      "source": [
        "##Ejercicio numero 11"
      ],
      "metadata": {
        "id": "Qn4Z49pr67WC"
      }
    },
    {
      "cell_type": "markdown",
      "source": [
        "Problema: *Crea una función que reciba una lista y retorne otra lista sin elementos repetidos.*"
      ],
      "metadata": {
        "id": "iP_cRsZA9Z4x"
      }
    },
    {
      "cell_type": "markdown",
      "source": [
        "1. Diccionario"
      ],
      "metadata": {
        "id": "5T2iqSW98IXZ"
      }
    },
    {
      "cell_type": "code",
      "source": [
        "def eliminar_repetidos(lista):\n",
        "    resultado = {}\n",
        "    for elemento in lista:\n",
        "        resultado[elemento] = True\n",
        "    return list(resultado.keys())\n",
        "numeros = [1, 1, 1, 2, 2, 3, 4, 4, 4, 4, 5] # Si queres pone mas numeros y vera que es igual\n",
        "print(eliminar_repetidos(numeros))"
      ],
      "metadata": {
        "colab": {
          "base_uri": "https://localhost:8080/"
        },
        "id": "uIrHQUoM8Nvp",
        "outputId": "95d48b74-6f2e-4557-9651-71202e700385"
      },
      "execution_count": 8,
      "outputs": [
        {
          "output_type": "stream",
          "name": "stdout",
          "text": [
            "[1, 2, 3, 4, 5]\n"
          ]
        }
      ]
    },
    {
      "cell_type": "markdown",
      "source": [
        "2. Lista por comprension"
      ],
      "metadata": {
        "id": "TksNL5Im8XVh"
      }
    },
    {
      "cell_type": "code",
      "source": [
        "def eliminar_repetidos(lista):\n",
        "    return list({x for x in lista})\n",
        "numeros = [1, 1, 1, 2, 2, 3, 4, 4, 4, 4, 5] #Lo mismo que dije en la anterior nota jsjs\n",
        "print(eliminar_repetidos(numeros))"
      ],
      "metadata": {
        "colab": {
          "base_uri": "https://localhost:8080/"
        },
        "id": "7FkA9xHA8dNJ",
        "outputId": "a5c1029b-657d-41e2-cdd3-954a711f5974"
      },
      "execution_count": 9,
      "outputs": [
        {
          "output_type": "stream",
          "name": "stdout",
          "text": [
            "[1, 2, 3, 4, 5]\n"
          ]
        }
      ]
    },
    {
      "cell_type": "markdown",
      "source": [
        "##Ejercicio numero 12"
      ],
      "metadata": {
        "id": "i7Qu9UQ68nF4"
      }
    },
    {
      "cell_type": "markdown",
      "source": [
        "Problema: *Crea una función que reciba una lista de números y retorne solo los que son primos.*"
      ],
      "metadata": {
        "id": "XHPUfQ279ot3"
      }
    },
    {
      "cell_type": "markdown",
      "source": [
        "1. Diccionario"
      ],
      "metadata": {
        "id": "vvWDwZZo8p7Y"
      }
    },
    {
      "cell_type": "code",
      "source": [
        "def es_primo(num):\n",
        "    if num < 2:\n",
        "        return False\n",
        "    for i in range(2, num):\n",
        "        if num % i == 0:\n",
        "            return False\n",
        "    return True\n",
        "def filtrar_primos(lista):\n",
        "    primos = {}\n",
        "    for num in lista:\n",
        "        if es_primo(num):\n",
        "            primos[num] = True\n",
        "    return list(primos.keys())\n",
        "numeros = [1, 2, 3, 4, 5, 6, 7, 8, 9, 10, 11, 12, 13, 14, 15, 16, 17, 18, 19, 20, 21, 22] #Ya me canse de escribir sorry\n",
        "print(filtrar_primos(numeros))"
      ],
      "metadata": {
        "colab": {
          "base_uri": "https://localhost:8080/"
        },
        "id": "_R7reT9t8syo",
        "outputId": "46b2d034-c075-48cd-bc02-e0bfc4b79d4a"
      },
      "execution_count": 11,
      "outputs": [
        {
          "output_type": "stream",
          "name": "stdout",
          "text": [
            "[2, 3, 5, 7, 11, 13, 17, 19]\n"
          ]
        }
      ]
    },
    {
      "cell_type": "markdown",
      "source": [
        "2. Listas por comprension"
      ],
      "metadata": {
        "id": "gJjE7Iie80cw"
      }
    },
    {
      "cell_type": "code",
      "source": [
        "def es_primo(num):\n",
        "    if num < 2:\n",
        "        return False\n",
        "    for i in range(2, num):\n",
        "        if num % i == 0:\n",
        "            return False\n",
        "    return True\n",
        "def filtrar_primos(lista):\n",
        "    return [num for num in lista if es_primo(num)]\n",
        "numeros = [1, 2, 3, 4, 5, 6, 7, 8, 9, 10, 11, 12, 13, 14, 15, 16, 17, 18, 19, 20, 21, 22]\n",
        "print(filtrar_primos(numeros))"
      ],
      "metadata": {
        "colab": {
          "base_uri": "https://localhost:8080/"
        },
        "id": "mCYlOXv383H7",
        "outputId": "feaeb42b-aa64-4297-8aa0-f65e3e696baf"
      },
      "execution_count": 12,
      "outputs": [
        {
          "output_type": "stream",
          "name": "stdout",
          "text": [
            "[2, 3, 5, 7, 11, 13, 17, 19]\n"
          ]
        }
      ]
    }
  ]
}