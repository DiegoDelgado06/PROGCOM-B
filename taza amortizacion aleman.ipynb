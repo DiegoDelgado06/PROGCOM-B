{
  "cells": [
    {
      "cell_type": "markdown",
      "metadata": {
        "id": "view-in-github",
        "colab_type": "text"
      },
      "source": [
        "<a href=\"https://colab.research.google.com/github/DiegoDelgado06/PROGCOM-B/blob/main/taza%20amortizacion%20aleman.ipynb\" target=\"_parent\"><img src=\"https://colab.research.google.com/assets/colab-badge.svg\" alt=\"Open In Colab\"/></a>"
      ]
    },
    {
      "cell_type": "code",
      "source": [
        "# ==========================================\n",
        "# TABLA DE AMORTIZACIÓN - MÉTODO ALEMÁN\n",
        "# ==========================================\n",
        "\n",
        "import pandas as pd\n",
        "\n",
        "def tabla_amortizacion_aleman(monto, tasa_anual, cuotas):\n",
        "    # Conversión de tasa anual a mensual\n",
        "    tasa_mensual = tasa_anual / 12 / 100\n",
        "\n",
        "    # Cuota de capital constante\n",
        "    cuota_capital = monto / cuotas\n",
        "\n",
        "    saldo = monto\n",
        "    datos = []\n",
        "\n",
        "    for i in range(1, cuotas + 1):\n",
        "        interes = saldo * tasa_mensual\n",
        "        cuota_total = cuota_capital + interes\n",
        "        saldo -= cuota_capital\n",
        "\n",
        "        datos.append({\n",
        "            \"Cuota\": i,\n",
        "            \"Capital\": round(cuota_capital, 2),\n",
        "            \"Interés\": round(interes, 2),\n",
        "            \"Cuota Total\": round(cuota_total, 2),\n",
        "            \"Saldo Restante\": round(max(saldo, 0), 2)\n",
        "        })\n",
        "\n",
        "    tabla = pd.DataFrame(datos)\n",
        "    return tabla\n",
        "\n",
        "# ------------------------------------------\n",
        "# ENTRADAS DEL USUARIO\n",
        "# ------------------------------------------\n",
        "monto = float(input(\"Ingrese el monto del préstamo: \"))\n",
        "tasa = float(input(\"Ingrese la tasa de interés anual (%): \"))\n",
        "cuotas = int(input(\"Ingrese el número de cuotas: \"))\n",
        "\n",
        "# ------------------------------------------\n",
        "# RESULTADOS\n",
        "# ------------------------------------------\n",
        "tabla = tabla_amortizacion_aleman(monto, tasa, cuotas)\n",
        "\n",
        "print(\"\\nTABLA DE AMORTIZACIÓN - MÉTODO ALEMÁN\\n\")\n",
        "print(tabla.to_string(index=False))\n",
        "\n",
        "# ------------------------------------------\n",
        "# OPCIONAL: Mostrar resumen\n",
        "# ------------------------------------------\n",
        "total_intereses = tabla[\"Interés\"].sum()\n",
        "total_pagado = tabla[\"Cuota Total\"].sum()\n",
        "\n",
        "print(\"\\nResumen:\")\n",
        "print(f\"Total pagado: ${total_pagado:,.2f}\")\n",
        "print(f\"Total de intereses: ${total_intereses:,.2f}\")\n"
      ],
      "metadata": {
        "id": "sh3BkTQ7WOPY",
        "outputId": "5c3acb9d-cb67-463d-fb58-70d9220d2a93",
        "colab": {
          "base_uri": "https://localhost:8080/"
        }
      },
      "execution_count": 1,
      "outputs": [
        {
          "output_type": "stream",
          "name": "stdout",
          "text": [
            "Ingrese el monto del préstamo: 12000000\n",
            "Ingrese la tasa de interés anual (%): 10\n",
            "Ingrese el número de cuotas: 12\n",
            "\n",
            "TABLA DE AMORTIZACIÓN - MÉTODO ALEMÁN\n",
            "\n",
            " Cuota   Capital   Interés  Cuota Total  Saldo Restante\n",
            "     1 1000000.0 100000.00   1100000.00      11000000.0\n",
            "     2 1000000.0  91666.67   1091666.67      10000000.0\n",
            "     3 1000000.0  83333.33   1083333.33       9000000.0\n",
            "     4 1000000.0  75000.00   1075000.00       8000000.0\n",
            "     5 1000000.0  66666.67   1066666.67       7000000.0\n",
            "     6 1000000.0  58333.33   1058333.33       6000000.0\n",
            "     7 1000000.0  50000.00   1050000.00       5000000.0\n",
            "     8 1000000.0  41666.67   1041666.67       4000000.0\n",
            "     9 1000000.0  33333.33   1033333.33       3000000.0\n",
            "    10 1000000.0  25000.00   1025000.00       2000000.0\n",
            "    11 1000000.0  16666.67   1016666.67       1000000.0\n",
            "    12 1000000.0   8333.33   1008333.33             0.0\n",
            "\n",
            "Resumen:\n",
            "Total pagado: $12,650,000.00\n",
            "Total de intereses: $650,000.00\n"
          ]
        }
      ]
    }
  ],
  "metadata": {
    "colab": {
      "name": "Te damos la bienvenida a Colaboratory",
      "toc_visible": true,
      "provenance": [],
      "include_colab_link": true
    },
    "kernelspec": {
      "display_name": "Python 3",
      "name": "python3"
    }
  },
  "nbformat": 4,
  "nbformat_minor": 0
}