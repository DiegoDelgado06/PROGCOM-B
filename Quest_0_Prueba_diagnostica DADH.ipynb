{
  "cells": [
    {
      "cell_type": "markdown",
      "source": [
        "### *PRUEBA DIAGNOSTICA*\n",
        "\n",
        "\n",
        "\n"
      ],
      "metadata": {
        "id": "HC8qYhpMqiiE"
      }
    },
    {
      "cell_type": "markdown",
      "source": [
        "Parte 1: Estructuras de decision"
      ],
      "metadata": {
        "id": "nk67twnmr7tz"
      }
    },
    {
      "cell_type": "markdown",
      "source": [
        "1\t) Escribe un programa que reciba un número e indique si es positivo."
      ],
      "metadata": {
        "id": "sCq9TBf7sKeq"
      }
    },
    {
      "cell_type": "code",
      "source": [
        "numero= float(input(\"Ingrese un número: \"))\n",
        "if es_positivo(numero):\n",
        "  print(f\"El número [numero] es positivo.\")\n",
        "else:\n",
        "  print(f\"El número [numero] no es positivo.\")"
      ],
      "metadata": {
        "colab": {
          "base_uri": "https://localhost:8080/"
        },
        "id": "XKwRnSsysRo0",
        "outputId": "d08cb539-cfe4-4d40-d4d0-28ffe4121892"
      },
      "execution_count": 26,
      "outputs": [
        {
          "output_type": "stream",
          "name": "stdout",
          "text": [
            "Ingrese un número: -1\n",
            "El número [numero] no es positivo.\n"
          ]
        }
      ]
    },
    {
      "cell_type": "markdown",
      "source": [
        "2\tEscribe un programa que reciba una edad y determine si la persona es mayor de edad."
      ],
      "metadata": {
        "id": "-MH7kSBZyKP-"
      }
    },
    {
      "cell_type": "code",
      "source": [
        "edad = float(input(\"Ingrese su edad\"))\n",
        "if edad >= 18:\n",
        "  print(\"Eres mayor de edad.\")\n",
        "elif edad >= 13:\n",
        "  print(\"Eres adolescente.\")\n",
        "else:\n",
        "  print(\"Eres menor de edad.\")"
      ],
      "metadata": {
        "colab": {
          "base_uri": "https://localhost:8080/"
        },
        "id": "-HlP82fcyPMN",
        "outputId": "01e8731f-9bf5-4d2a-965c-507ff081c5ca"
      },
      "execution_count": 37,
      "outputs": [
        {
          "output_type": "stream",
          "name": "stdout",
          "text": [
            "Ingrese su edad8\n",
            "Eres menor de edad.\n"
          ]
        }
      ]
    },
    {
      "cell_type": "markdown",
      "source": [
        "3\tEscribe un programa que reciba dos números e imprima el mayor."
      ],
      "metadata": {
        "id": "V_gyTuYVy2ee"
      }
    },
    {
      "cell_type": "code",
      "source": [
        "def encontrar_mayor(num1, num2):\n",
        "  if num1 > num2:\n",
        "    print(num1)\n",
        "  else:\n",
        "    print(num2)\n",
        "numero1 = float(input(\"Ingrese el primer número: \"))\n",
        "numero2 = float(input(\"Ingrese el segundo número: \"))\n",
        "encontrar_mayor(numero1, numero2)"
      ],
      "metadata": {
        "colab": {
          "base_uri": "https://localhost:8080/"
        },
        "id": "hYJRXy9b1Zfr",
        "outputId": "c75d3d8e-6737-4481-b2e0-0451a405069d"
      },
      "execution_count": 48,
      "outputs": [
        {
          "output_type": "stream",
          "name": "stdout",
          "text": [
            "Ingrese el primer número: 25\n",
            "Ingrese el segundo número: 25.2\n",
            "25.2\n"
          ]
        }
      ]
    },
    {
      "cell_type": "markdown",
      "source": [
        "4\tEscribe un programa que reciba una calificación (0-100) e indique si es Aprobado (>=60) o Reprobado."
      ],
      "metadata": {
        "id": "wWdFvSIr1_hy"
      }
    },
    {
      "cell_type": "code",
      "source": [
        "numero= float(input(\"Ingrese la calificacion: \"))\n",
        "if numero >=60:\n",
        "  print(f\"Su calificacion demuestra que a aprobado.\")\n",
        "else:\n",
        "  print(f\"Su calificacion demuestra que has reprobado\")"
      ],
      "metadata": {
        "colab": {
          "base_uri": "https://localhost:8080/"
        },
        "id": "WPHFoqJd2Doi",
        "outputId": "84887252-4b11-436f-ba13-5921d7eba259"
      },
      "execution_count": 51,
      "outputs": [
        {
          "output_type": "stream",
          "name": "stdout",
          "text": [
            "Ingrese la calificacion: 49\n",
            "Su calificacion demuestra que has reprobado\n"
          ]
        }
      ]
    },
    {
      "cell_type": "markdown",
      "source": [
        "5\tEscribe un programa que determine si un número es par o impar."
      ],
      "metadata": {
        "id": "M8-VGMTH3jbJ"
      }
    },
    {
      "cell_type": "code",
      "source": [],
      "metadata": {
        "id": "84sTDzGR3myB"
      },
      "execution_count": null,
      "outputs": []
    }
  ],
  "metadata": {
    "colab": {
      "provenance": []
    },
    "kernelspec": {
      "display_name": "Python 3",
      "name": "python3"
    }
  },
  "nbformat": 4,
  "nbformat_minor": 0
}