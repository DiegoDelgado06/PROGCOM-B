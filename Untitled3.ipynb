{
  "nbformat": 4,
  "nbformat_minor": 0,
  "metadata": {
    "colab": {
      "provenance": [],
      "authorship_tag": "ABX9TyNKX0V4xsV/mu3SsUM1uiKG",
      "include_colab_link": true
    },
    "kernelspec": {
      "name": "python3",
      "display_name": "Python 3"
    },
    "language_info": {
      "name": "python"
    }
  },
  "cells": [
    {
      "cell_type": "markdown",
      "metadata": {
        "id": "view-in-github",
        "colab_type": "text"
      },
      "source": [
        "<a href=\"https://colab.research.google.com/github/DiegoDelgado06/PROGCOM-B/blob/main/Untitled3.ipynb\" target=\"_parent\"><img src=\"https://colab.research.google.com/assets/colab-badge.svg\" alt=\"Open In Colab\"/></a>"
      ]
    },
    {
      "cell_type": "markdown",
      "source": [
        "#Estructuras de seleccion\n",
        "Se emplean cuando quiero evauar una condicion. El resultado de la evaluacion de esta condicion siempre se da en Booleano (V o F)"
      ],
      "metadata": {
        "id": "fOt-Bt-JMY_t"
      }
    },
    {
      "cell_type": "markdown",
      "source": [
        "##Estructura if-else\n",
        "\n",
        "\n",
        "\n",
        "```\n",
        "if (condicion):\n",
        " entro aqui, si la condicion de verdadero V\n",
        "else:\n",
        " entro aqui, si la condicion es = F\n",
        "```\n",
        "\n",
        "\n",
        "\n"
      ],
      "metadata": {
        "id": "QF1jFBFsM36c"
      }
    },
    {
      "cell_type": "markdown",
      "source": [
        "7) Año bisiesto"
      ],
      "metadata": {
        "id": "z55LvYFvN8m8"
      }
    },
    {
      "cell_type": "code",
      "source": [
        "#1. Es divisible entre 4\n",
        "#2. Es divisible entre 400 pero no entre 100\n",
        "año=int(input(\"Introduzca un año:\"))\n",
        "if (año%4==0 and año%100!=0):\n",
        "  print(f\"{año} es un año bisiesto\")\n",
        "else:\n",
        "  if año%400==0:\n",
        "    print(f\"{año} es un año bisiesto\")\n",
        "  else:\n",
        "    print(f\"{año} NO es un año bisiesto\")"
      ],
      "metadata": {
        "colab": {
          "base_uri": "https://localhost:8080/"
        },
        "id": "nv7cedSwN91s",
        "outputId": "ae46b242-32de-4956-b03b-930eadf46971"
      },
      "execution_count": 7,
      "outputs": [
        {
          "output_type": "stream",
          "name": "stdout",
          "text": [
            "Introduzca un año:2024\n",
            "2024 es un año bisiesto\n"
          ]
        }
      ]
    },
    {
      "cell_type": "markdown",
      "source": [
        "##Estructura de decision multiple if-elif-else\n",
        "Se emplea cuando hay mas de una decision\n",
        "\n",
        "```\n",
        "if (cond1):\n",
        "   si cond1 es verdadero entro aqui\n",
        "elif (cond2):\n",
        "   si cond1 es fALSO, pero cond2 es verdadero, entro aqui\n",
        "elif (cond3):\n",
        "   si cond1 y cond2 son falso, PERO cond3 es verdadero, entro aqui\n",
        "else: si cond1 y cond2 y cond3 y condn son falsas, entrara aqui\n",
        "```\n",
        "\n",
        "\n",
        "\n"
      ],
      "metadata": {
        "id": "Xx4L8OoNP84S"
      }
    },
    {
      "cell_type": "code",
      "source": [
        "if (año%4==0 and año%100!=0): print(f\"{año} es un año bisiesto\")\n",
        "elif año%400==0: print(f\"{año} es un año bisiesto\")\n",
        "else:print(f\"{año} NO es un año bisiesto\")"
      ],
      "metadata": {
        "colab": {
          "base_uri": "https://localhost:8080/"
        },
        "id": "qUqZusreRDji",
        "outputId": "f68f6709-8dad-463e-e04b-5cce7fe626f3"
      },
      "execution_count": 8,
      "outputs": [
        {
          "output_type": "stream",
          "name": "stdout",
          "text": [
            "2024 es un año bisiesto\n"
          ]
        }
      ]
    },
    {
      "cell_type": "markdown",
      "source": [],
      "metadata": {
        "id": "PiS60dVvSJkg"
      }
    },
    {
      "cell_type": "markdown",
      "source": [
        "\n",
        "\n",
        "```\n",
        "CORRECION DE EJERCICIOS\n",
        "GUIA DIAGNOSTICA\n",
        "PRIMERA PARTE\n",
        "```\n",
        "\n"
      ],
      "metadata": {
        "id": "01g76eB_SXqo"
      }
    },
    {
      "cell_type": "markdown",
      "source": [
        "##Operador ternierio\n",
        "Programar una estructura de seleccion en una sola linea de codigo\n",
        "\n",
        "```\n",
        "\n",
        "(lo que se debe ejecutar, si la condicion es verdadera)\n",
        "if (condicion)\n",
        "else (lo que se debe ejecutar, si la condicion es falsa)\n",
        "```\n",
        "\n",
        "\n",
        "\n",
        "\n"
      ],
      "metadata": {
        "id": "c5yU-Bm4We72"
      }
    },
    {
      "cell_type": "code",
      "source": [
        "a=f\"{año} es un año bisiesto\" if (año%4==0 and año%100!=0) else b\n",
        "b=f\"{año} es un año bisiesto\" if año%400==0 else f\"{año} NO es un año bisiesto\"\n",
        "print(a)"
      ],
      "metadata": {
        "colab": {
          "base_uri": "https://localhost:8080/"
        },
        "id": "m9lXq_40ZH9L",
        "outputId": "22bd27a4-6ce7-4c83-c5a8-a695852d7c86"
      },
      "execution_count": 25,
      "outputs": [
        {
          "output_type": "stream",
          "name": "stdout",
          "text": [
            "2024 es un año bisiesto\n"
          ]
        }
      ]
    },
    {
      "cell_type": "markdown",
      "source": [
        "1\tEscribe un programa que reciba un número e indique si es positivo"
      ],
      "metadata": {
        "id": "0dU4JbE7SmQo"
      }
    },
    {
      "cell_type": "code",
      "source": [
        "numero=int(input(\"Escribe un numero\"))\n",
        "if (numero>0): print(f\"{numero} es positivo\")\n",
        "elif (numero>1): print(f\"{numero} es positivo\")\n",
        "else:print(f\"{numero} NO es positivo\")"
      ],
      "metadata": {
        "colab": {
          "base_uri": "https://localhost:8080/"
        },
        "id": "hJ2V9KprTqnI",
        "outputId": "39ade42e-9c95-47c7-df53-ccb34ddd55c4"
      },
      "execution_count": 12,
      "outputs": [
        {
          "output_type": "stream",
          "name": "stdout",
          "text": [
            "Escribe un numero0\n",
            "0 NO es positivo\n"
          ]
        }
      ]
    },
    {
      "cell_type": "markdown",
      "source": [
        "2\tEscribe un programa que reciba una edad y determine si la persona es mayor de edad."
      ],
      "metadata": {
        "id": "4wyUPTXKVB-_"
      }
    },
    {
      "cell_type": "code",
      "source": [
        "edad=int(input(\"Escribe tu edad\"))\n",
        "if (edad>18): print(f\"tienes {edad} por lo tanto eres mayor de edad\")\n",
        "elif (edad>13 and edad<18): print(f\"tienes {edad} por lo tanto eres un adolecente\")\n",
        "elif (edad<13 and edad>0): print(f\"tienes {edad} por lo tanto eres un niño o niña\")\n",
        "else: print(f\"no existes\")"
      ],
      "metadata": {
        "colab": {
          "base_uri": "https://localhost:8080/"
        },
        "id": "91E-p-M4VKJu",
        "outputId": "f0afc539-985c-4431-e4e2-911a67140c37"
      },
      "execution_count": 26,
      "outputs": [
        {
          "output_type": "stream",
          "name": "stdout",
          "text": [
            "Escribe tu edad17\n",
            "tienes 17 por lo tanto eres un adolecente\n"
          ]
        }
      ]
    },
    {
      "cell_type": "markdown",
      "source": [],
      "metadata": {
        "id": "KeSnUGpWWZ41"
      }
    },
    {
      "cell_type": "markdown",
      "source": [
        "3\tEscribe un programa que reciba dos números e imprima el mayor."
      ],
      "metadata": {
        "id": "Q45csX_oZAQL"
      }
    },
    {
      "cell_type": "code",
      "source": [
        "numero1 = float(input(\"Ingresa el primer número: \"))\n",
        "numero2 = float(input(\"Ingresa el segundo número: \"))\n",
        "if numero1 > numero2:\n",
        "    print(\"El mayor es:\", numero1)\n",
        "elif numero2 > numero1:\n",
        "    print(\"El mayor es:\", numero2)\n",
        "else:\n",
        "    print(\"Ambos números son iguales.\")"
      ],
      "metadata": {
        "colab": {
          "base_uri": "https://localhost:8080/"
        },
        "id": "NK50OVFEZEfj",
        "outputId": "479ce77c-e78d-4961-8f7e-80c7fa84613c"
      },
      "execution_count": 28,
      "outputs": [
        {
          "output_type": "stream",
          "name": "stdout",
          "text": [
            "Ingresa el primer número: 8\n",
            "Ingresa el segundo número: 7\n",
            "El mayor es: 8.0\n"
          ]
        }
      ]
    },
    {
      "cell_type": "markdown",
      "source": [
        "4\tEscribe un programa que reciba una calificación (0-100) e indique si es Aprobado (>=60) o Reprobado."
      ],
      "metadata": {
        "id": "6T1cDGm-b9KC"
      }
    },
    {
      "cell_type": "code",
      "source": [
        "calificacion = int(input(\"Ingresa la calificación (0-100): \"))\n",
        "if calificacion < 0:\n",
        "    print(\"La calificación no puede ser menor que 0, estas mintiendo\")\n",
        "elif calificacion >= 60:\n",
        "    print(\"Aprobado\")\n",
        "else:\n",
        "    print(\"Reprobado\")"
      ],
      "metadata": {
        "colab": {
          "base_uri": "https://localhost:8080/"
        },
        "id": "7_LvLo6YcPXZ",
        "outputId": "b21320ad-6cd1-44ce-a517-e949cf4498be"
      },
      "execution_count": 32,
      "outputs": [
        {
          "output_type": "stream",
          "name": "stdout",
          "text": [
            "Ingresa la calificación (0-100): 60\n",
            "Aprobado\n"
          ]
        }
      ]
    },
    {
      "cell_type": "markdown",
      "source": [
        "5\tEscribe un programa que determine si un número es par o impar."
      ],
      "metadata": {
        "id": "UFswDGY6c9XR"
      }
    },
    {
      "cell_type": "code",
      "source": [
        "numero = int(input(\"Ingresa un número: \"))\n",
        "if numero % 2 == 0:\n",
        "    print(\"El número es par.\")\n",
        "elif numero % 2 != 0:\n",
        "    print(\"El número es impar.\")\n",
        "else:\n",
        "    print(\"No es impar ni par\")"
      ],
      "metadata": {
        "colab": {
          "base_uri": "https://localhost:8080/"
        },
        "id": "bMMH5rAWdCOI",
        "outputId": "5e0b68d3-2c1d-4cdd-b475-d4dee3a8f722"
      },
      "execution_count": 40,
      "outputs": [
        {
          "output_type": "stream",
          "name": "stdout",
          "text": [
            "Ingresa un número: 8\n",
            "El número es par.\n"
          ]
        }
      ]
    },
    {
      "cell_type": "markdown",
      "source": [
        "6\tEscribe un programa que reciba tres números e imprima el mayor de los tres."
      ],
      "metadata": {
        "id": "ROZ5BV08dymA"
      }
    },
    {
      "cell_type": "code",
      "source": [
        "numero1 = float(input(\"Ingresa el primer número: \"))\n",
        "numero2 = float(input(\"Ingresa el segundo número: \"))\n",
        "numero3 = float(input(\"Ingresa el tercer número: \"))\n",
        "if numero1 >= numero2 and numero1 >= numero3:\n",
        "    print(\"El mayor es:\", numero1)\n",
        "elif numero2 >= numero1 and numero2 >= numero3:\n",
        "    print(\"El mayor es:\", numero2)\n",
        "else:\n",
        "    print(\"El mayor es:\", numero3)"
      ],
      "metadata": {
        "colab": {
          "base_uri": "https://localhost:8080/"
        },
        "id": "sQZgg0V1d2rQ",
        "outputId": "0b3c334a-a5a0-4b5f-e592-0cd4dc7d373b"
      },
      "execution_count": 41,
      "outputs": [
        {
          "output_type": "stream",
          "name": "stdout",
          "text": [
            "Ingresa el primer número: 2\n",
            "Ingresa el segundo número: 3\n",
            "Ingresa el tercer número: 4\n",
            "El mayor es: 4.0\n"
          ]
        }
      ]
    },
    {
      "cell_type": "markdown",
      "source": [
        "7\tEscribe un programa que reciba un año e indique si es bisiesto."
      ],
      "metadata": {
        "id": "JpSChASofYbX"
      }
    },
    {
      "cell_type": "code",
      "source": [
        "año = int(input(\"Ingresa un año: \"))\n",
        "if año % 4 == 0 and (año % 100 != 0 or año % 400 == 0):\n",
        "    print(\"El año es bisiesto.\")\n",
        "elif año < 0:\n",
        "    print(\"El año no puede ser negativo.\")\n",
        "else:\n",
        "    print(\"El año no es bisiesto.\")"
      ],
      "metadata": {
        "colab": {
          "base_uri": "https://localhost:8080/"
        },
        "id": "1DuyU2IlfecH",
        "outputId": "96543e50-acf6-425e-f5fe-895fef1686d9"
      },
      "execution_count": 42,
      "outputs": [
        {
          "output_type": "stream",
          "name": "stdout",
          "text": [
            "Ingresa un año: 2014\n",
            "El año no es bisiesto.\n"
          ]
        }
      ]
    },
    {
      "cell_type": "markdown",
      "source": [
        "8\tEscribe un programa que reciba una contraseña e indique si cumple con las siguientes reglas: más de 8 caracteres, contiene al menos un número y una letra mayúscula."
      ],
      "metadata": {
        "id": "f2U0uhehfzpP"
      }
    },
    {
      "cell_type": "code",
      "source": [
        "contraseña = input(\"Ingresa una contraseña: \")\n",
        "tiene_mas_de_8 = len(contraseña) > 8\n",
        "tiene_numero = any(caracter.isdigit() for caracter in contraseña)\n",
        "tiene_mayuscula = any(caracter.isupper() for caracter in contraseña)\n",
        "if tiene_mas_de_8 and tiene_numero and tiene_mayuscula:\n",
        "    print(\"La contraseña es válida.\")\n",
        "elif not tiene_mas_de_8:\n",
        "    print(\"La contraseña debe tener más de 8 caracteres.\")\n",
        "else:\n",
        "    print(\"La contraseña debe contener al menos un número y una letra mayúscula.\")"
      ],
      "metadata": {
        "colab": {
          "base_uri": "https://localhost:8080/"
        },
        "id": "9FLXEAP4gDef",
        "outputId": "debef6f5-9dce-4446-e1b2-aab97ed15f68"
      },
      "execution_count": 44,
      "outputs": [
        {
          "output_type": "stream",
          "name": "stdout",
          "text": [
            "Ingresa una contraseña: Bjsidbfus25\n",
            "La contraseña es válida.\n"
          ]
        }
      ]
    },
    {
      "cell_type": "markdown",
      "source": [
        "9\tEscribe un programa que lea un número e imprima “Fizz” si es divisible por 3, “Buzz” si es divisible por 5 y “FizzBuzz” si es divisible por ambos."
      ],
      "metadata": {
        "id": "_aKI0bj5gbsO"
      }
    },
    {
      "cell_type": "code",
      "source": [
        "numero = int(input(\"Ingresa un número: \"))\n",
        "if numero % 3 == 0 and numero % 5 == 0:\n",
        "    print(\"FizzBuzz\")\n",
        "elif numero % 3 == 0:\n",
        "    print(\"Fizz\")\n",
        "elif numero % 5 == 0:\n",
        "    print(\"Buzz\")\n",
        "else:\n",
        "    print(\"El número no es divisible ni por 3 ni por 5.\")"
      ],
      "metadata": {
        "colab": {
          "base_uri": "https://localhost:8080/"
        },
        "id": "HTMGm4kggfiu",
        "outputId": "76868988-ad0b-446c-dadc-dd078e86220a"
      },
      "execution_count": 45,
      "outputs": [
        {
          "output_type": "stream",
          "name": "stdout",
          "text": [
            "Ingresa un número: 5\n",
            "Buzz\n"
          ]
        }
      ]
    },
    {
      "cell_type": "markdown",
      "source": [
        "10\tEscribe un programa que simule un cajero automático: recibe el monto a retirar e imprime si la operación es posible en base al saldo disponible."
      ],
      "metadata": {
        "id": "SKfLcD08gqjG"
      }
    },
    {
      "cell_type": "code",
      "source": [
        "saldo = 5000000\n",
        "monto = float(input(\"Ingresa el monto a retirar: \"))\n",
        "if monto <= 0:\n",
        "    print(\"El monto debe ser mayor que cero.\")\n",
        "elif monto > saldo:\n",
        "    print(\"Fondos insuficientes. No se puede realizar la operación.\")\n",
        "else:\n",
        "    saldo -= monto\n",
        "    print(f\"Retiro exitoso. Tu nuevo saldo es: ${saldo:.2f}\")"
      ],
      "metadata": {
        "colab": {
          "base_uri": "https://localhost:8080/"
        },
        "id": "W7n4AFjfgtUu",
        "outputId": "a8f1cdfa-9c9c-4603-bd8e-3966c894c2a1"
      },
      "execution_count": 49,
      "outputs": [
        {
          "output_type": "stream",
          "name": "stdout",
          "text": [
            "Ingresa el monto a retirar: 20000\n",
            "Retiro exitoso. Tu nuevo saldo es: $4980000.00\n"
          ]
        }
      ]
    }
  ]
}