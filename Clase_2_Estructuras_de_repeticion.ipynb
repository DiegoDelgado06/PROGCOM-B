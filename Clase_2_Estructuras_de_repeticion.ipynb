{
  "nbformat": 4,
  "nbformat_minor": 0,
  "metadata": {
    "colab": {
      "provenance": [],
      "authorship_tag": "ABX9TyNpk5hTeV1gMYBDThU8EYYd",
      "include_colab_link": true
    },
    "kernelspec": {
      "name": "python3",
      "display_name": "Python 3"
    },
    "language_info": {
      "name": "python"
    }
  },
  "cells": [
    {
      "cell_type": "markdown",
      "metadata": {
        "id": "view-in-github",
        "colab_type": "text"
      },
      "source": [
        "<a href=\"https://colab.research.google.com/github/DiegoDelgado06/PROGCOM-B/blob/main/Clase_2_Estructuras_de_repeticion.ipynb\" target=\"_parent\"><img src=\"https://colab.research.google.com/assets/colab-badge.svg\" alt=\"Open In Colab\"/></a>"
      ]
    },
    {
      "cell_type": "markdown",
      "source": [
        "#Estructuras de repeticion\n",
        "Se emplean cuando se desea repetir una parte del codigo, dada una condicion"
      ],
      "metadata": {
        "id": "neN7RKztksx2"
      }
    },
    {
      "cell_type": "markdown",
      "source": [
        "##Estructura para - for\n",
        "\n",
        "Se usa cuando\n",
        "* se sabe **cuantas veces** se repite una accion.\n",
        "* Esta compuesta por un contador y una condicion.\n",
        "* **Contador**: Identifica cuantas veces se va a reptir el bucle y con que frecuencia.\n",
        "* **Condicion**: Evalua cuando se detiene.\n",
        "\n",
        "Por definicion:\n",
        "\n",
        "```\n",
        "For variable in range (vi, vf+1, paso):\n",
        "aqui se repite parte del codigo\n",
        "```\n",
        "Donde\n",
        "1. vi: Condicion inicial. Donde arranco a contar.\n",
        "2. vf+1: Condicion final. Donde dejo de contar+1\n",
        "3. Paso: Frecuencia de conteo\n",
        "\n",
        "For para recorrido de listas\n",
        "flor=[\"amapola\",\"rosa\",\"tulipan\",\"orquidea\"]\n",
        "* El para va a iterar tantas veces como elemnetos tenga la lista\n",
        "* La variable dentro del para, toma como valor, cada elemento de la lista\n",
        "```\n",
        "for variable in lista:\n",
        " variable\n",
        "```\n",
        "\n"
      ],
      "metadata": {
        "id": "dFuN3QWMk3hV"
      }
    },
    {
      "cell_type": "code",
      "source": [
        "#Creando una lista de nombre flor\n",
        "flor=[\"amapola\",\"rosa\",\"tulipan\",\"orquidea\"]\n",
        "for flores in flor:\n",
        "   print(flores)\n",
        "   if flores==\"tulipan\":\n",
        "     break"
      ],
      "metadata": {
        "colab": {
          "base_uri": "https://localhost:8080/"
        },
        "id": "F7bjc1od0c_g",
        "outputId": "79aed6dd-976a-48c6-fd6c-d40738f25dbb"
      },
      "execution_count": 5,
      "outputs": [
        {
          "output_type": "stream",
          "name": "stdout",
          "text": [
            "amapola\n",
            "rosa\n",
            "tulipan\n"
          ]
        }
      ]
    },
    {
      "cell_type": "markdown",
      "source": [
        "##Estructura while\n",
        "* Se emplea cuando **NO SE SABE** cuantas veces se debe repetir una accion, pero si se conoce su condicion de parada (CP).\n",
        "* Condicion inicial: Donde arranca el ciclo\n",
        "* Condicion final (parada): Que indica donde se detiene el ciclo\n",
        "* Modificador de condicion inicial\n",
        "\n",
        "Estructura general del mientras\n",
        "\n",
        "```\n",
        "Condicion final\n",
        "while (condiccion==condicion final)\n",
        ":    \n",
        "  modificador de condicion inicial\n",
        "```\n",
        "Modificadores de condicion inicial\n",
        "* Banderas: son booleanos\n",
        "* Son preguntas\n",
        "* Son contadores o acumuladores\n",
        "\n"
      ],
      "metadata": {
        "id": "O0c1DC7Y2bzm"
      }
    },
    {
      "cell_type": "markdown",
      "source": [
        "##Listas\n",
        "* Son un conjunto de objetos, **indexado**, separado por comas, y encerrado entre [].\n",
        "* Todos los elementos de una lista se empiean a contar desde 0.\n",
        "###Creacion de listas\n",
        "* Forma general: lista=[]\n",
        "* Forma manual: animales=[\"gato\", \"perro\", \"zorro\", \"oso\"]\n",
        "* por conversion: numero=list(range(10))\n"
      ],
      "metadata": {
        "id": "5YqzQENR0NKY"
      }
    },
    {
      "cell_type": "code",
      "execution_count": null,
      "metadata": {
        "id": "fUGkVwDugWCs"
      },
      "outputs": [],
      "source": [
        "lista=[]"
      ]
    },
    {
      "cell_type": "code",
      "source": [
        "type(lista)"
      ],
      "metadata": {
        "id": "GPcz3yx5xBu7"
      },
      "execution_count": null,
      "outputs": []
    },
    {
      "cell_type": "code",
      "source": [
        "zorro=(1,2,3,4)\n",
        "animales=[\"gato\",\"perro\",zorro,\"oso\"]\n",
        "animales"
      ],
      "metadata": {
        "id": "pc-zqYA6xFNb"
      },
      "execution_count": null,
      "outputs": []
    },
    {
      "cell_type": "code",
      "source": [
        "type(zorro)"
      ],
      "metadata": {
        "id": "yQzagAfzxTli"
      },
      "execution_count": null,
      "outputs": []
    },
    {
      "cell_type": "code",
      "source": [
        "numero=list(range(10))\n",
        "numero"
      ],
      "metadata": {
        "colab": {
          "base_uri": "https://localhost:8080/"
        },
        "id": "_s2yYg2xyRNC",
        "outputId": "0da3946e-5972-4932-c3e3-caa879b81ed0"
      },
      "execution_count": 2,
      "outputs": [
        {
          "output_type": "execute_result",
          "data": {
            "text/plain": [
              "[0, 1, 2, 3, 4, 5, 6, 7, 8, 9]"
            ]
          },
          "metadata": {},
          "execution_count": 2
        }
      ]
    },
    {
      "cell_type": "code",
      "source": [
        "range(10)"
      ],
      "metadata": {
        "id": "xomh3n2Tyb9S"
      },
      "execution_count": null,
      "outputs": []
    },
    {
      "cell_type": "code",
      "source": [
        "type(range(10))"
      ],
      "metadata": {
        "id": "3pw8Pn2Nyigq"
      },
      "execution_count": null,
      "outputs": []
    }
  ]
}